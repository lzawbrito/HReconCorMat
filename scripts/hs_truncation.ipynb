{
 "cells": [
  {
   "cell_type": "markdown",
   "metadata": {},
   "source": [
    "# Reconstruction with Truncations\n",
    "_Author: Lucas Z. Brito_ \n",
    "\n",
    "This script performs reconstruction of the HS Hamiltonian including truncations \n",
    "of the operator basis."
   ]
  },
  {
   "cell_type": "code",
   "execution_count": null,
   "metadata": {},
   "outputs": [],
   "source": [
    "using DataFrames\n",
    "using CSV\n",
    "using LinearAlgebra\n",
    "using JSON\n",
    "using Arpack\n",
    "using JLD\n",
    "using Plots\n",
    "\n",
    "include(\"./src/hs_tools.jl\")\n"
   ]
  },
  {
   "cell_type": "code",
   "execution_count": null,
   "metadata": {},
   "outputs": [],
   "source": [
    "function proj(v, mat)\n",
    "\treturn mat * inv(mat' * mat) * mat' * v\n",
    "end\n",
    "\n",
    "function dec_mat(m, n_ops)\n",
    "\tshape = size(m)\n",
    "\treturn m[1:(shape[1] - n_ops), 1:(shape[2] - n_ops)]\n",
    "end\n",
    "\n",
    "function dec_vec(v, n_ops)\n",
    "\tshape = size(m)\n",
    "\treturn v[1:(shape[1] - n_ops)]\n",
    "end\n",
    "\n",
    "function decim_recon(mat, coeffs) \n",
    "\trecons = []; n_ops = Int[]; cs = []; evals = []\n",
    "\tfor i in 0:(size(mat)[1] - 1)\n",
    "\t\tmat_size = size(mat)[1] - i\n",
    "\t\teig = eigen(dec_mat(mat, i))\n",
    "\t\tnullsp = eig.vectors[:, 1:min(2, mat_size)]\n",
    "\t\tcurrent_evals = eig.values\n",
    "\t\tc = coeffs[1:end - i]\n",
    "\t\tevals = vcat(evals, current_evals)\n",
    "\t\tcs = vcat(cs, c)\n",
    "\t\trecons = vcat(recons, proj(c, nullsp))\n",
    "\t\tn_ops = vcat(n_ops, (mat_size) * ones(mat_size))\n",
    "\tend\n",
    "\treturn Dict(\"recons\" => recons, \"n_ops\" => n_ops, \"coeffs\" => cs, \"evals\" => evals)\n",
    "end \n"
   ]
  },
  {
   "cell_type": "code",
   "execution_count": null,
   "metadata": {},
   "outputs": [],
   "source": [
    "output_dir = \"./data/hs/\"\n",
    "\n",
    "# Obtain WF, CM, FT CM \n",
    "n = 21\n",
    "ft = ft_mat(trunc(Int, n/2))\n",
    "cm_wf = load(\"./hs/data/cm_wf_n=$n.jld\"); cm = cm_wf[\"cm\"]; k = cm_wf[\"wf\"]\n",
    "ft_cm = ft * cm * ft'\n",
    "\n",
    "\n",
    "# Obtain position space and FT HS coefficients\n",
    "hs_analytical = hs_coeffs(n)\n",
    "hs_ft = normalize(ft * hs_analytical)\n",
    "\n",
    "pos_decim_recon = decim_recon(cm, hs_analytical)\n",
    "recon = pos_decim_recon[\"recons\"]\n",
    "evals = pos_decim_recon[\"evals\"]\n",
    "\n",
    "ft_decim_recon = decim_recon(ft_cm, hs_ft)\n",
    "recon_ft = ft_decim_recon[\"recons\"]\n",
    "n_ops = ft_decim_recon[\"n_ops\"]\n",
    "evals_ft_re, evals_ft_im = real(ft_decim_recon[\"evals\"]), imag(ft_decim_recon[\"evals\"])"
   ]
  },
  {
   "cell_type": "code",
   "execution_count": null,
   "metadata": {},
   "outputs": [],
   "source": [
    "# Store reconstruction details in a dataframe.\n",
    "recon_df = DataFrame(n_ops=n_ops, \n",
    "\t\t\t\t\t recon=recon, \n",
    "\t\t\t\t\t recon_ft_re=real(recon_ft), \n",
    "\t\t\t\t\t recon_ft_im=imag(recon_ft),\n",
    "\t\t\t\t\t anal=pos_decim_recon[\"coeffs\"],\n",
    "\t\t\t\t\t anal_ft_re=real(ft_decim_recon[\"coeffs\"]),\n",
    "\t\t\t\t\t anal_ft_im=imag(ft_decim_recon[\"coeffs\"]),\n",
    "\t\t\t\t\t evals=evals, evals_ft_re=evals_ft_re, \n",
    "\t\t\t\t\t evals_ft_im=evals_ft_im)\n",
    "\n"
   ]
  },
  {
   "cell_type": "markdown",
   "metadata": {},
   "source": [
    "### Truncations"
   ]
  },
  {
   "cell_type": "code",
   "execution_count": null,
   "metadata": {},
   "outputs": [],
   "source": [
    "\n",
    "# Obtain eigenvalues for each decimation\n",
    "evals = [eigen(dec_mat(cm, i)).values[1] for i in 0:(size(cm)[1] - 1)]\n",
    "evals, evals_im = real(evals), imag(evals)\n",
    "n_ops = [size(cm)[1] - i for i in 0:(size(cm)[1] - 1)]\n",
    "\n",
    "evals_ft = [eigen(dec_mat(ft_cm, i)).values[1] for i in 0:(size(ft_cm)[1] - 1)]\n",
    "evals_ft, evals_im_ft = real(evals), imag(evals)\n",
    "\n",
    "df_evals = DataFrame(n_ops=n_ops, \n",
    "\t\t\t   eval=evals,\n",
    "\t\t\t   eval_ft=evals_ft,\n",
    "\t\t\t   eval_im=evals_im,\n",
    "\t\t\t   eval_im_ft=evals_im_ft)"
   ]
  },
  {
   "cell_type": "code",
   "execution_count": null,
   "metadata": {},
   "outputs": [],
   "source": [
    "\n",
    "df = recon_df # innerjoin(df_evals, recon_df, on=:n_ops)\n",
    "fn = CSV.write(output_dir * \"decim_n=$n.csv\", df)\n",
    "printstyled(\"Written decimation data to $fn\\n\", bold=true, color=:green)"
   ]
  }
 ],
 "metadata": {
  "kernelspec": {
   "display_name": "Julia 1.7.3",
   "language": "julia",
   "name": "julia-1.7"
  },
  "language_info": {
   "file_extension": ".jl",
   "mimetype": "application/julia",
   "name": "julia",
   "version": "1.7.3"
  },
  "orig_nbformat": 4
 },
 "nbformat": 4,
 "nbformat_minor": 2
}
