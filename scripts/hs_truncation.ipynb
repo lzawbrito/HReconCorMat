{
 "cells": [
  {
   "cell_type": "markdown",
   "metadata": {},
   "source": [
    "# Reconstruction with Truncations\n",
    "_Author: Lucas Z. Brito_ \n",
    "\n",
    "This script performs reconstruction of the HS Hamiltonian including truncations \n",
    "of the operator basis."
   ]
  },
  {
   "cell_type": "code",
   "execution_count": 1,
   "metadata": {},
   "outputs": [
    {
     "data": {
      "text/plain": [
       "ft_mat"
      ]
     },
     "metadata": {},
     "output_type": "display_data"
    }
   ],
   "source": [
    "using DataFrames\n",
    "using CSV\n",
    "using LinearAlgebra\n",
    "using JSON\n",
    "using Arpack\n",
    "using JLD\n",
    "using Plots\n",
    "\n",
    "include(\"./src/hs_tools.jl\")"
   ]
  },
  {
   "cell_type": "code",
   "execution_count": 21,
   "metadata": {},
   "outputs": [
    {
     "data": {
      "text/plain": [
       "decim_recon (generic function with 1 method)"
      ]
     },
     "metadata": {},
     "output_type": "display_data"
    }
   ],
   "source": [
    "function proj(v, mat)\n",
    "\treturn mat * inv(mat' * mat) * mat' * v\n",
    "end\n",
    "\n",
    "function dec_mat(m, n_ops)\n",
    "\tshape = size(m)\n",
    "\treturn m[1:(shape[1] - n_ops), 1:(shape[2] - n_ops)]\n",
    "end\n",
    "\n",
    "function dec_vec(v, n_ops)\n",
    "\tshape = size(m)\n",
    "\treturn v[1:(shape[1] - n_ops)]\n",
    "end\n",
    "\n",
    "function decim_recon(mat, coeffs) \n",
    "\trecons = []; n_ops = Int[]; cs = []; evals = []\n",
    "\tfor i in 0:(size(mat)[1] - 1)\n",
    "\t\tmat_size = size(mat)[1] - i\n",
    "\t\teig = eigen(dec_mat(mat, i))\n",
    "\t\tnullsp = eig.vectors[:, 1:min(2, mat_size)]\n",
    "\t\tcurrent_evals = eig.values\n",
    "\t\tc = coeffs[1:end - i]\n",
    "\t\tevals = vcat(evals, current_evals)\n",
    "\t\tcs = vcat(cs, c)\n",
    "\t\trecons = vcat(recons, proj(c, nullsp))\n",
    "\t\tn_ops = vcat(n_ops, (mat_size) * ones(mat_size))\n",
    "\tend\n",
    "\treturn Dict(\"recons\" => recons, \"n_ops\" => n_ops, \"coeffs\" => cs, \"evals\" => evals)\n",
    "end \n"
   ]
  },
  {
   "cell_type": "code",
   "execution_count": 22,
   "metadata": {},
   "outputs": [
    {
     "data": {
      "text/plain": [
       "([5.667840928772609e-17, 4.112077668407593e-15, 0.00013209696304354983, 0.0005502731341263993, 0.0013832833979162257, 0.0028589158059040788, 0.006623852113006995, 0.011851740930315687, 0.022045449322180378, 0.04928470613871323  …  0.0003280399699068628, 0.0018323306236391911, 0.006109539723911163, 0.0190698520187989, 0.0003433698361428474, 0.0018962374433623282, 0.006352061912811369, 0.0003548639055748747, 0.0019640254034673796, 0.0003671694469954053], [1.8060674101718382e-19, 4.684550000831782e-19, -3.0502506798466215e-19, 3.6614396951539454e-19, -8.386234343333078e-19, 9.863740825935858e-19, -1.8450268167371375e-18, 1.6027410424737292e-18, -8.633242160364914e-19, -2.876461232612652e-19  …  1.7083388142909645e-19, 4.00159709180584e-19, -9.788134465703702e-20, 1.471675400943232e-18, 1.5984356498443834e-19, -3.8162878483721277e-19, -1.1025169547091114e-19, 1.884371497359284e-19, -3.5784373918678833e-19, 2.1006417091906648e-19])"
      ]
     },
     "metadata": {},
     "output_type": "display_data"
    }
   ],
   "source": [
    "output_dir = \"../data/hs_data/\"\n",
    "\n",
    "# Obtain WF, CM, FT CM \n",
    "n = 21\n",
    "ft = ft_mat(trunc(Int, n/2))\n",
    "cm_wf = load(\"../data/hs_data/cm_wf_n=$n.jld\"); cm = cm_wf[\"cm\"]; k = cm_wf[\"wf\"]\n",
    "ft_cm = ft * cm * ft'\n",
    "\n",
    "\n",
    "# Obtain position space and FT HS coefficients\n",
    "hs_analytical = hs_coeffs(n)\n",
    "hs_ft = normalize(ft * hs_analytical)\n",
    "\n",
    "pos_decim_recon = decim_recon(cm, hs_analytical)\n",
    "recon = pos_decim_recon[\"recons\"]\n",
    "evals = pos_decim_recon[\"evals\"]\n",
    "\n",
    "ft_decim_recon = decim_recon(ft_cm, hs_ft)\n",
    "recon_ft = ft_decim_recon[\"recons\"]\n",
    "n_ops = ft_decim_recon[\"n_ops\"]\n",
    "evals_ft_re, evals_ft_im = real(ft_decim_recon[\"evals\"]), imag(ft_decim_recon[\"evals\"])"
   ]
  },
  {
   "cell_type": "code",
   "execution_count": 23,
   "metadata": {},
   "outputs": [
    {
     "data": {
      "text/html": [
       "<div><div style = \"float: left;\"><span>55×10 DataFrame</span></div><div style = \"float: right;\"><span style = \"font-style: italic;\">30 rows omitted</span></div><div style = \"clear: both;\"></div></div><div class = \"data-frame\" style = \"overflow-x: scroll;\"><table class = \"data-frame\" style = \"margin-bottom: 6px;\"><thead><tr class = \"header\"><th class = \"rowNumber\" style = \"font-weight: bold; text-align: right;\">Row</th><th style = \"text-align: left;\">n_ops</th><th style = \"text-align: left;\">recon</th><th style = \"text-align: left;\">recon_ft_re</th><th style = \"text-align: left;\">recon_ft_im</th><th style = \"text-align: left;\">anal</th><th style = \"text-align: left;\">anal_ft_re</th><th style = \"text-align: left;\">anal_ft_im</th><th style = \"text-align: left;\">evals</th><th style = \"text-align: left;\">evals_ft_re</th><th style = \"text-align: left;\">evals_ft_im</th></tr><tr class = \"subheader headerLastRow\"><th class = \"rowNumber\" style = \"font-weight: bold; text-align: right;\"></th><th title = \"Float64\" style = \"text-align: left;\">Float64</th><th title = \"Any\" style = \"text-align: left;\">Any</th><th title = \"Float64\" style = \"text-align: left;\">Float64</th><th title = \"Float64\" style = \"text-align: left;\">Float64</th><th title = \"Any\" style = \"text-align: left;\">Any</th><th title = \"Float64\" style = \"text-align: left;\">Float64</th><th title = \"Float64\" style = \"text-align: left;\">Float64</th><th title = \"Any\" style = \"text-align: left;\">Any</th><th title = \"Float64\" style = \"text-align: left;\">Float64</th><th title = \"Float64\" style = \"text-align: left;\">Float64</th></tr></thead><tbody><tr><td class = \"rowNumber\" style = \"font-weight: bold; text-align: right;\">1</td><td style = \"text-align: right;\">10.0</td><td style = \"text-align: left;\">1.00749</td><td style = \"text-align: right;\">0.345204</td><td style = \"text-align: right;\">-0.0848419</td><td style = \"text-align: left;\">1.00749</td><td style = \"text-align: right;\">0.345204</td><td style = \"text-align: right;\">-0.0848419</td><td style = \"text-align: left;\">5.59716e-17</td><td style = \"text-align: right;\">5.66784e-17</td><td style = \"text-align: right;\">1.80607e-19</td></tr><tr><td class = \"rowNumber\" style = \"font-weight: bold; text-align: right;\">2</td><td style = \"text-align: right;\">10.0</td><td style = \"text-align: left;\">0.257596</td><td style = \"text-align: right;\">0.289057</td><td style = \"text-align: right;\">-0.0708532</td><td style = \"text-align: left;\">0.257596</td><td style = \"text-align: right;\">0.289057</td><td style = \"text-align: right;\">-0.0708532</td><td style = \"text-align: left;\">4.11216e-15</td><td style = \"text-align: right;\">4.11208e-15</td><td style = \"text-align: right;\">4.68455e-19</td></tr><tr><td class = \"rowNumber\" style = \"font-weight: bold; text-align: right;\">3</td><td style = \"text-align: right;\">10.0</td><td style = \"text-align: left;\">0.118882</td><td style = \"text-align: right;\">0.261874</td><td style = \"text-align: right;\">-0.0477631</td><td style = \"text-align: left;\">0.118882</td><td style = \"text-align: right;\">0.261874</td><td style = \"text-align: right;\">-0.0477631</td><td style = \"text-align: left;\">0.000132097</td><td style = \"text-align: right;\">0.000132097</td><td style = \"text-align: right;\">-3.05025e-19</td></tr><tr><td class = \"rowNumber\" style = \"font-weight: bold; text-align: right;\">4</td><td style = \"text-align: right;\">10.0</td><td style = \"text-align: left;\">0.0705262</td><td style = \"text-align: right;\">0.248886</td><td style = \"text-align: right;\">-0.0237849</td><td style = \"text-align: left;\">0.0705262</td><td style = \"text-align: right;\">0.248886</td><td style = \"text-align: right;\">-0.0237849</td><td style = \"text-align: left;\">0.000550273</td><td style = \"text-align: right;\">0.000550273</td><td style = \"text-align: right;\">3.66144e-19</td></tr><tr><td class = \"rowNumber\" style = \"font-weight: bold; text-align: right;\">5</td><td style = \"text-align: right;\">10.0</td><td style = \"text-align: left;\">0.0483752</td><td style = \"text-align: right;\">0.244996</td><td style = \"text-align: right;\">-5.24681e-16</td><td style = \"text-align: left;\">0.0483752</td><td style = \"text-align: right;\">0.244996</td><td style = \"text-align: right;\">-8.72086e-18</td><td style = \"text-align: left;\">0.00138328</td><td style = \"text-align: right;\">0.00138328</td><td style = \"text-align: right;\">-8.38623e-19</td></tr><tr><td class = \"rowNumber\" style = \"font-weight: bold; text-align: right;\">6</td><td style = \"text-align: right;\">10.0</td><td style = \"text-align: left;\">0.036613</td><td style = \"text-align: right;\">0.248886</td><td style = \"text-align: right;\">0.0237849</td><td style = \"text-align: left;\">0.036613</td><td style = \"text-align: right;\">0.248886</td><td style = \"text-align: right;\">0.0237849</td><td style = \"text-align: left;\">0.00285892</td><td style = \"text-align: right;\">0.00285892</td><td style = \"text-align: right;\">9.86374e-19</td></tr><tr><td class = \"rowNumber\" style = \"font-weight: bold; text-align: right;\">7</td><td style = \"text-align: right;\">10.0</td><td style = \"text-align: left;\">0.0298401</td><td style = \"text-align: right;\">0.261874</td><td style = \"text-align: right;\">0.0477631</td><td style = \"text-align: left;\">0.0298401</td><td style = \"text-align: right;\">0.261874</td><td style = \"text-align: right;\">0.0477631</td><td style = \"text-align: left;\">0.00662385</td><td style = \"text-align: right;\">0.00662385</td><td style = \"text-align: right;\">-1.84503e-18</td></tr><tr><td class = \"rowNumber\" style = \"font-weight: bold; text-align: right;\">8</td><td style = \"text-align: right;\">10.0</td><td style = \"text-align: left;\">0.0258273</td><td style = \"text-align: right;\">0.289057</td><td style = \"text-align: right;\">0.0708532</td><td style = \"text-align: left;\">0.0258273</td><td style = \"text-align: right;\">0.289057</td><td style = \"text-align: right;\">0.0708532</td><td style = \"text-align: left;\">0.0118517</td><td style = \"text-align: right;\">0.0118517</td><td style = \"text-align: right;\">1.60274e-18</td></tr><tr><td class = \"rowNumber\" style = \"font-weight: bold; text-align: right;\">9</td><td style = \"text-align: right;\">10.0</td><td style = \"text-align: left;\">0.0235459</td><td style = \"text-align: right;\">0.345204</td><td style = \"text-align: right;\">0.0848419</td><td style = \"text-align: left;\">0.0235459</td><td style = \"text-align: right;\">0.345204</td><td style = \"text-align: right;\">0.0848419</td><td style = \"text-align: left;\">0.0220454</td><td style = \"text-align: right;\">0.0220454</td><td style = \"text-align: right;\">-8.63324e-19</td></tr><tr><td class = \"rowNumber\" style = \"font-weight: bold; text-align: right;\">10</td><td style = \"text-align: right;\">10.0</td><td style = \"text-align: left;\">0.0225057</td><td style = \"text-align: right;\">0.493318</td><td style = \"text-align: right;\">1.32483e-16</td><td style = \"text-align: left;\">0.0225057</td><td style = \"text-align: right;\">0.493318</td><td style = \"text-align: right;\">1.35041e-16</td><td style = \"text-align: left;\">0.0492847</td><td style = \"text-align: right;\">0.0492847</td><td style = \"text-align: right;\">-2.87646e-19</td></tr><tr><td class = \"rowNumber\" style = \"font-weight: bold; text-align: right;\">11</td><td style = \"text-align: right;\">9.0</td><td style = \"text-align: left;\">1.00561</td><td style = \"text-align: right;\">0.345204</td><td style = \"text-align: right;\">-0.0848419</td><td style = \"text-align: left;\">1.00749</td><td style = \"text-align: right;\">0.345204</td><td style = \"text-align: right;\">-0.0848419</td><td style = \"text-align: left;\">3.95838e-15</td><td style = \"text-align: right;\">3.8456e-15</td><td style = \"text-align: right;\">9.34623e-19</td></tr><tr><td class = \"rowNumber\" style = \"font-weight: bold; text-align: right;\">12</td><td style = \"text-align: right;\">9.0</td><td style = \"text-align: left;\">0.263124</td><td style = \"text-align: right;\">0.289057</td><td style = \"text-align: right;\">-0.0708532</td><td style = \"text-align: left;\">0.257596</td><td style = \"text-align: right;\">0.289057</td><td style = \"text-align: right;\">-0.0708532</td><td style = \"text-align: left;\">4.31454e-5</td><td style = \"text-align: right;\">0.000132097</td><td style = \"text-align: right;\">-2.37701e-19</td></tr><tr><td class = \"rowNumber\" style = \"font-weight: bold; text-align: right;\">13</td><td style = \"text-align: right;\">9.0</td><td style = \"text-align: left;\">0.124496</td><td style = \"text-align: right;\">0.261874</td><td style = \"text-align: right;\">-0.0477631</td><td style = \"text-align: left;\">0.118882</td><td style = \"text-align: right;\">0.261874</td><td style = \"text-align: right;\">-0.0477631</td><td style = \"text-align: left;\">0.000360742</td><td style = \"text-align: right;\">0.000550273</td><td style = \"text-align: right;\">4.04642e-19</td></tr><tr><td style = \"text-align: right;\">&vellip;</td><td style = \"text-align: right;\">&vellip;</td><td style = \"text-align: right;\">&vellip;</td><td style = \"text-align: right;\">&vellip;</td><td style = \"text-align: right;\">&vellip;</td><td style = \"text-align: right;\">&vellip;</td><td style = \"text-align: right;\">&vellip;</td><td style = \"text-align: right;\">&vellip;</td><td style = \"text-align: right;\">&vellip;</td><td style = \"text-align: right;\">&vellip;</td><td style = \"text-align: right;\">&vellip;</td></tr><tr><td class = \"rowNumber\" style = \"font-weight: bold; text-align: right;\">44</td><td style = \"text-align: right;\">5.0</td><td style = \"text-align: left;\">0.0606761</td><td style = \"text-align: right;\">0.0841448</td><td style = \"text-align: right;\">-0.00716549</td><td style = \"text-align: left;\">0.0705262</td><td style = \"text-align: right;\">0.248886</td><td style = \"text-align: right;\">-0.0237849</td><td style = \"text-align: left;\">0.00914467</td><td style = \"text-align: right;\">0.0148014</td><td style = \"text-align: right;\">1.39843e-18</td></tr><tr><td class = \"rowNumber\" style = \"font-weight: bold; text-align: right;\">45</td><td style = \"text-align: right;\">5.0</td><td style = \"text-align: left;\">0.0230178</td><td style = \"text-align: right;\">0.0659143</td><td style = \"text-align: right;\">0.00795277</td><td style = \"text-align: left;\">0.0483752</td><td style = \"text-align: right;\">0.244996</td><td style = \"text-align: right;\">-8.72086e-18</td><td style = \"text-align: left;\">0.0334703</td><td style = \"text-align: right;\">0.0457478</td><td style = \"text-align: right;\">-1.82933e-19</td></tr><tr><td class = \"rowNumber\" style = \"font-weight: bold; text-align: right;\">46</td><td style = \"text-align: right;\">4.0</td><td style = \"text-align: left;\">1.00566</td><td style = \"text-align: right;\">0.356993</td><td style = \"text-align: right;\">-0.0888484</td><td style = \"text-align: left;\">1.00749</td><td style = \"text-align: right;\">0.345204</td><td style = \"text-align: right;\">-0.0848419</td><td style = \"text-align: left;\">2.69401e-7</td><td style = \"text-align: right;\">0.00032804</td><td style = \"text-align: right;\">1.70834e-19</td></tr><tr><td class = \"rowNumber\" style = \"font-weight: bold; text-align: right;\">47</td><td style = \"text-align: right;\">4.0</td><td style = \"text-align: left;\">0.270319</td><td style = \"text-align: right;\">0.333676</td><td style = \"text-align: right;\">-0.0772796</td><td style = \"text-align: left;\">0.257596</td><td style = \"text-align: right;\">0.289057</td><td style = \"text-align: right;\">-0.0708532</td><td style = \"text-align: left;\">0.000352605</td><td style = \"text-align: right;\">0.00183233</td><td style = \"text-align: right;\">4.0016e-19</td></tr><tr><td class = \"rowNumber\" style = \"font-weight: bold; text-align: right;\">48</td><td style = \"text-align: right;\">4.0</td><td style = \"text-align: left;\">0.115811</td><td style = \"text-align: right;\">0.0640833</td><td style = \"text-align: right;\">-0.0168836</td><td style = \"text-align: left;\">0.118882</td><td style = \"text-align: right;\">0.261874</td><td style = \"text-align: right;\">-0.0477631</td><td style = \"text-align: left;\">0.00395965</td><td style = \"text-align: right;\">0.00610954</td><td style = \"text-align: right;\">-9.78813e-20</td></tr><tr><td class = \"rowNumber\" style = \"font-weight: bold; text-align: right;\">49</td><td style = \"text-align: right;\">4.0</td><td style = \"text-align: left;\">0.0329502</td><td style = \"text-align: right;\">0.0308493</td><td style = \"text-align: right;\">-0.00118186</td><td style = \"text-align: left;\">0.0705262</td><td style = \"text-align: right;\">0.248886</td><td style = \"text-align: right;\">-0.0237849</td><td style = \"text-align: left;\">0.0258798</td><td style = \"text-align: right;\">0.0190699</td><td style = \"text-align: right;\">1.47168e-18</td></tr><tr><td class = \"rowNumber\" style = \"font-weight: bold; text-align: right;\">50</td><td style = \"text-align: right;\">3.0</td><td style = \"text-align: left;\">1.00544</td><td style = \"text-align: right;\">0.351977</td><td style = \"text-align: right;\">-0.0861545</td><td style = \"text-align: left;\">1.00749</td><td style = \"text-align: right;\">0.345204</td><td style = \"text-align: right;\">-0.0848419</td><td style = \"text-align: left;\">1.31692e-6</td><td style = \"text-align: right;\">0.00034337</td><td style = \"text-align: right;\">1.59844e-19</td></tr><tr><td class = \"rowNumber\" style = \"font-weight: bold; text-align: right;\">51</td><td style = \"text-align: right;\">3.0</td><td style = \"text-align: left;\">0.273622</td><td style = \"text-align: right;\">0.316327</td><td style = \"text-align: right;\">-0.0722122</td><td style = \"text-align: left;\">0.257596</td><td style = \"text-align: right;\">0.289057</td><td style = \"text-align: right;\">-0.0708532</td><td style = \"text-align: left;\">0.000568463</td><td style = \"text-align: right;\">0.00189624</td><td style = \"text-align: right;\">-3.81629e-19</td></tr><tr><td class = \"rowNumber\" style = \"font-weight: bold; text-align: right;\">52</td><td style = \"text-align: right;\">3.0</td><td style = \"text-align: left;\">0.0942461</td><td style = \"text-align: right;\">0.0507817</td><td style = \"text-align: right;\">-0.0156043</td><td style = \"text-align: left;\">0.118882</td><td style = \"text-align: right;\">0.261874</td><td style = \"text-align: right;\">-0.0477631</td><td style = \"text-align: left;\">0.0178216</td><td style = \"text-align: right;\">0.00635206</td><td style = \"text-align: right;\">-1.10252e-19</td></tr><tr><td class = \"rowNumber\" style = \"font-weight: bold; text-align: right;\">53</td><td style = \"text-align: right;\">2.0</td><td style = \"text-align: left;\">1.00749</td><td style = \"text-align: right;\">0.345204</td><td style = \"text-align: right;\">-0.0848419</td><td style = \"text-align: left;\">1.00749</td><td style = \"text-align: right;\">0.345204</td><td style = \"text-align: right;\">-0.0848419</td><td style = \"text-align: left;\">4.14525e-6</td><td style = \"text-align: right;\">0.000354864</td><td style = \"text-align: right;\">1.88437e-19</td></tr><tr><td class = \"rowNumber\" style = \"font-weight: bold; text-align: right;\">54</td><td style = \"text-align: right;\">2.0</td><td style = \"text-align: left;\">0.257596</td><td style = \"text-align: right;\">0.289057</td><td style = \"text-align: right;\">-0.0708532</td><td style = \"text-align: left;\">0.257596</td><td style = \"text-align: right;\">0.289057</td><td style = \"text-align: right;\">-0.0708532</td><td style = \"text-align: left;\">0.00575568</td><td style = \"text-align: right;\">0.00196403</td><td style = \"text-align: right;\">-3.57844e-19</td></tr><tr><td class = \"rowNumber\" style = \"font-weight: bold; text-align: right;\">55</td><td style = \"text-align: right;\">1.0</td><td style = \"text-align: left;\">1.00749</td><td style = \"text-align: right;\">0.345204</td><td style = \"text-align: right;\">-0.0848419</td><td style = \"text-align: left;\">1.00749</td><td style = \"text-align: right;\">0.345204</td><td style = \"text-align: right;\">-0.0848419</td><td style = \"text-align: left;\">0.000105852</td><td style = \"text-align: right;\">0.000367169</td><td style = \"text-align: right;\">2.10064e-19</td></tr></tbody></table></div>"
      ],
      "text/latex": [
       "\\begin{tabular}{r|cccccccc}\n",
       "\t& n\\_ops & recon & recon\\_ft\\_re & recon\\_ft\\_im & anal & anal\\_ft\\_re & anal\\_ft\\_im & \\\\\n",
       "\t\\hline\n",
       "\t& Float64 & Any & Float64 & Float64 & Any & Float64 & Float64 & \\\\\n",
       "\t\\hline\n",
       "\t1 & 10.0 & 1.00749 & 0.345204 & -0.0848419 & 1.00749 & 0.345204 & -0.0848419 & $\\dots$ \\\\\n",
       "\t2 & 10.0 & 0.257596 & 0.289057 & -0.0708532 & 0.257596 & 0.289057 & -0.0708532 & $\\dots$ \\\\\n",
       "\t3 & 10.0 & 0.118882 & 0.261874 & -0.0477631 & 0.118882 & 0.261874 & -0.0477631 & $\\dots$ \\\\\n",
       "\t4 & 10.0 & 0.0705262 & 0.248886 & -0.0237849 & 0.0705262 & 0.248886 & -0.0237849 & $\\dots$ \\\\\n",
       "\t5 & 10.0 & 0.0483752 & 0.244996 & -5.24681e-16 & 0.0483752 & 0.244996 & -8.72086e-18 & $\\dots$ \\\\\n",
       "\t6 & 10.0 & 0.036613 & 0.248886 & 0.0237849 & 0.036613 & 0.248886 & 0.0237849 & $\\dots$ \\\\\n",
       "\t7 & 10.0 & 0.0298401 & 0.261874 & 0.0477631 & 0.0298401 & 0.261874 & 0.0477631 & $\\dots$ \\\\\n",
       "\t8 & 10.0 & 0.0258273 & 0.289057 & 0.0708532 & 0.0258273 & 0.289057 & 0.0708532 & $\\dots$ \\\\\n",
       "\t9 & 10.0 & 0.0235459 & 0.345204 & 0.0848419 & 0.0235459 & 0.345204 & 0.0848419 & $\\dots$ \\\\\n",
       "\t10 & 10.0 & 0.0225057 & 0.493318 & 1.32483e-16 & 0.0225057 & 0.493318 & 1.35041e-16 & $\\dots$ \\\\\n",
       "\t11 & 9.0 & 1.00561 & 0.345204 & -0.0848419 & 1.00749 & 0.345204 & -0.0848419 & $\\dots$ \\\\\n",
       "\t12 & 9.0 & 0.263124 & 0.289057 & -0.0708532 & 0.257596 & 0.289057 & -0.0708532 & $\\dots$ \\\\\n",
       "\t13 & 9.0 & 0.124496 & 0.261874 & -0.0477631 & 0.118882 & 0.261874 & -0.0477631 & $\\dots$ \\\\\n",
       "\t14 & 9.0 & 0.074088 & 0.248886 & -0.0237849 & 0.0705262 & 0.248886 & -0.0237849 & $\\dots$ \\\\\n",
       "\t15 & 9.0 & 0.0490666 & 0.244996 & -5.42036e-16 & 0.0483752 & 0.244996 & -8.72086e-18 & $\\dots$ \\\\\n",
       "\t16 & 9.0 & 0.0330588 & 0.248886 & 0.0237849 & 0.036613 & 0.248886 & 0.0237849 & $\\dots$ \\\\\n",
       "\t17 & 9.0 & 0.0219269 & 0.261874 & 0.0477631 & 0.0298401 & 0.261874 & 0.0477631 & $\\dots$ \\\\\n",
       "\t18 & 9.0 & 0.0125214 & 0.289057 & 0.0708532 & 0.0258273 & 0.289057 & 0.0708532 & $\\dots$ \\\\\n",
       "\t19 & 9.0 & 0.00529176 & 0.345204 & 0.0848419 & 0.0235459 & 0.345204 & 0.0848419 & $\\dots$ \\\\\n",
       "\t20 & 8.0 & 1.00563 & 0.330145 & -0.0938044 & 1.00749 & 0.345204 & -0.0848419 & $\\dots$ \\\\\n",
       "\t21 & 8.0 & 0.263656 & 0.331304 & -0.0593708 & 0.257596 & 0.289057 & -0.0708532 & $\\dots$ \\\\\n",
       "\t22 & 8.0 & 0.124578 & 0.281304 & -0.0401977 & 0.118882 & 0.261874 & -0.0477631 & $\\dots$ \\\\\n",
       "\t23 & 8.0 & 0.0731121 & 0.259459 & -0.0261199 & 0.0705262 & 0.248886 & -0.0237849 & $\\dots$ \\\\\n",
       "\t24 & 8.0 & 0.0468816 & 0.237918 & 0.00199607 & 0.0483752 & 0.244996 & -8.72086e-18 & $\\dots$ \\\\\n",
       "\t$\\dots$ & $\\dots$ & $\\dots$ & $\\dots$ & $\\dots$ & $\\dots$ & $\\dots$ & $\\dots$ &  \\\\\n",
       "\\end{tabular}\n"
      ],
      "text/plain": [
       "\u001b[1m55×10 DataFrame\u001b[0m\n",
       "\u001b[1m Row \u001b[0m│\u001b[1m n_ops   \u001b[0m\u001b[1m recon     \u001b[0m\u001b[1m recon_ft_re \u001b[0m\u001b[1m recon_ft_im  \u001b[0m\u001b[1m anal      \u001b[0m\u001b[1m anal_ft_re \u001b[0m\u001b[1m a\u001b[0m ⋯\n",
       "     │\u001b[90m Float64 \u001b[0m\u001b[90m Any       \u001b[0m\u001b[90m Float64     \u001b[0m\u001b[90m Float64      \u001b[0m\u001b[90m Any       \u001b[0m\u001b[90m Float64    \u001b[0m\u001b[90m F\u001b[0m ⋯\n",
       "─────┼──────────────────────────────────────────────────────────────────────────\n",
       "   1 │    10.0  1.00749      0.345204   -0.0848419    1.00749      0.345204  - ⋯\n",
       "   2 │    10.0  0.257596     0.289057   -0.0708532    0.257596     0.289057  -\n",
       "   3 │    10.0  0.118882     0.261874   -0.0477631    0.118882     0.261874  -\n",
       "   4 │    10.0  0.0705262    0.248886   -0.0237849    0.0705262    0.248886  -\n",
       "   5 │    10.0  0.0483752    0.244996   -5.24681e-16  0.0483752    0.244996  - ⋯\n",
       "   6 │    10.0  0.036613     0.248886    0.0237849    0.036613     0.248886\n",
       "   7 │    10.0  0.0298401    0.261874    0.0477631    0.0298401    0.261874\n",
       "   8 │    10.0  0.0258273    0.289057    0.0708532    0.0258273    0.289057\n",
       "  ⋮  │    ⋮         ⋮           ⋮            ⋮            ⋮          ⋮         ⋱\n",
       "  49 │     4.0  0.0329502    0.0308493  -0.00118186   0.0705262    0.248886  - ⋯\n",
       "  50 │     3.0  1.00544      0.351977   -0.0861545    1.00749      0.345204  -\n",
       "  51 │     3.0  0.273622     0.316327   -0.0722122    0.257596     0.289057  -\n",
       "  52 │     3.0  0.0942461    0.0507817  -0.0156043    0.118882     0.261874  -\n",
       "  53 │     2.0  1.00749      0.345204   -0.0848419    1.00749      0.345204  - ⋯\n",
       "  54 │     2.0  0.257596     0.289057   -0.0708532    0.257596     0.289057  -\n",
       "  55 │     1.0  1.00749      0.345204   -0.0848419    1.00749      0.345204  -\n",
       "\u001b[36m                                                   4 columns and 40 rows omitted\u001b[0m"
      ]
     },
     "metadata": {},
     "output_type": "display_data"
    }
   ],
   "source": [
    "# Store reconstruction details in a dataframe.\n",
    "recon_df = DataFrame(n_ops=n_ops, \n",
    "\t\t\t\t\t recon=recon, \n",
    "\t\t\t\t\t recon_ft_re=real(recon_ft), \n",
    "\t\t\t\t\t recon_ft_im=imag(recon_ft),\n",
    "\t\t\t\t\t anal=pos_decim_recon[\"coeffs\"],\n",
    "\t\t\t\t\t anal_ft_re=real(ft_decim_recon[\"coeffs\"]),\n",
    "\t\t\t\t\t anal_ft_im=imag(ft_decim_recon[\"coeffs\"]),\n",
    "\t\t\t\t\t evals=evals, evals_ft_re=evals_ft_re, \n",
    "\t\t\t\t\t evals_ft_im=evals_ft_im)\n",
    "\n"
   ]
  },
  {
   "cell_type": "markdown",
   "metadata": {},
   "source": [
    "### Truncations"
   ]
  },
  {
   "cell_type": "code",
   "execution_count": 24,
   "metadata": {},
   "outputs": [
    {
     "data": {
      "text/html": [
       "<div><div style = \"float: left;\"><span>10×5 DataFrame</span></div><div style = \"clear: both;\"></div></div><div class = \"data-frame\" style = \"overflow-x: scroll;\"><table class = \"data-frame\" style = \"margin-bottom: 6px;\"><thead><tr class = \"header\"><th class = \"rowNumber\" style = \"font-weight: bold; text-align: right;\">Row</th><th style = \"text-align: left;\">n_ops</th><th style = \"text-align: left;\">eval</th><th style = \"text-align: left;\">eval_ft</th><th style = \"text-align: left;\">eval_im</th><th style = \"text-align: left;\">eval_im_ft</th></tr><tr class = \"subheader headerLastRow\"><th class = \"rowNumber\" style = \"font-weight: bold; text-align: right;\"></th><th title = \"Int64\" style = \"text-align: left;\">Int64</th><th title = \"Float64\" style = \"text-align: left;\">Float64</th><th title = \"Float64\" style = \"text-align: left;\">Float64</th><th title = \"Float64\" style = \"text-align: left;\">Float64</th><th title = \"Float64\" style = \"text-align: left;\">Float64</th></tr></thead><tbody><tr><td class = \"rowNumber\" style = \"font-weight: bold; text-align: right;\">1</td><td style = \"text-align: right;\">10</td><td style = \"text-align: right;\">5.59716e-17</td><td style = \"text-align: right;\">5.59716e-17</td><td style = \"text-align: right;\">0.0</td><td style = \"text-align: right;\">0.0</td></tr><tr><td class = \"rowNumber\" style = \"font-weight: bold; text-align: right;\">2</td><td style = \"text-align: right;\">9</td><td style = \"text-align: right;\">3.95838e-15</td><td style = \"text-align: right;\">3.95838e-15</td><td style = \"text-align: right;\">0.0</td><td style = \"text-align: right;\">0.0</td></tr><tr><td class = \"rowNumber\" style = \"font-weight: bold; text-align: right;\">3</td><td style = \"text-align: right;\">8</td><td style = \"text-align: right;\">2.07464e-9</td><td style = \"text-align: right;\">2.07464e-9</td><td style = \"text-align: right;\">0.0</td><td style = \"text-align: right;\">0.0</td></tr><tr><td class = \"rowNumber\" style = \"font-weight: bold; text-align: right;\">4</td><td style = \"text-align: right;\">7</td><td style = \"text-align: right;\">1.07905e-8</td><td style = \"text-align: right;\">1.07905e-8</td><td style = \"text-align: right;\">0.0</td><td style = \"text-align: right;\">0.0</td></tr><tr><td class = \"rowNumber\" style = \"font-weight: bold; text-align: right;\">5</td><td style = \"text-align: right;\">6</td><td style = \"text-align: right;\">3.10022e-8</td><td style = \"text-align: right;\">3.10022e-8</td><td style = \"text-align: right;\">0.0</td><td style = \"text-align: right;\">0.0</td></tr><tr><td class = \"rowNumber\" style = \"font-weight: bold; text-align: right;\">6</td><td style = \"text-align: right;\">5</td><td style = \"text-align: right;\">1.07919e-7</td><td style = \"text-align: right;\">1.07919e-7</td><td style = \"text-align: right;\">0.0</td><td style = \"text-align: right;\">0.0</td></tr><tr><td class = \"rowNumber\" style = \"font-weight: bold; text-align: right;\">7</td><td style = \"text-align: right;\">4</td><td style = \"text-align: right;\">2.69401e-7</td><td style = \"text-align: right;\">2.69401e-7</td><td style = \"text-align: right;\">0.0</td><td style = \"text-align: right;\">0.0</td></tr><tr><td class = \"rowNumber\" style = \"font-weight: bold; text-align: right;\">8</td><td style = \"text-align: right;\">3</td><td style = \"text-align: right;\">1.31692e-6</td><td style = \"text-align: right;\">1.31692e-6</td><td style = \"text-align: right;\">0.0</td><td style = \"text-align: right;\">0.0</td></tr><tr><td class = \"rowNumber\" style = \"font-weight: bold; text-align: right;\">9</td><td style = \"text-align: right;\">2</td><td style = \"text-align: right;\">4.14525e-6</td><td style = \"text-align: right;\">4.14525e-6</td><td style = \"text-align: right;\">0.0</td><td style = \"text-align: right;\">0.0</td></tr><tr><td class = \"rowNumber\" style = \"font-weight: bold; text-align: right;\">10</td><td style = \"text-align: right;\">1</td><td style = \"text-align: right;\">0.000105852</td><td style = \"text-align: right;\">0.000105852</td><td style = \"text-align: right;\">0.0</td><td style = \"text-align: right;\">0.0</td></tr></tbody></table></div>"
      ],
      "text/latex": [
       "\\begin{tabular}{r|ccccc}\n",
       "\t& n\\_ops & eval & eval\\_ft & eval\\_im & eval\\_im\\_ft\\\\\n",
       "\t\\hline\n",
       "\t& Int64 & Float64 & Float64 & Float64 & Float64\\\\\n",
       "\t\\hline\n",
       "\t1 & 10 & 5.59716e-17 & 5.59716e-17 & 0.0 & 0.0 \\\\\n",
       "\t2 & 9 & 3.95838e-15 & 3.95838e-15 & 0.0 & 0.0 \\\\\n",
       "\t3 & 8 & 2.07464e-9 & 2.07464e-9 & 0.0 & 0.0 \\\\\n",
       "\t4 & 7 & 1.07905e-8 & 1.07905e-8 & 0.0 & 0.0 \\\\\n",
       "\t5 & 6 & 3.10022e-8 & 3.10022e-8 & 0.0 & 0.0 \\\\\n",
       "\t6 & 5 & 1.07919e-7 & 1.07919e-7 & 0.0 & 0.0 \\\\\n",
       "\t7 & 4 & 2.69401e-7 & 2.69401e-7 & 0.0 & 0.0 \\\\\n",
       "\t8 & 3 & 1.31692e-6 & 1.31692e-6 & 0.0 & 0.0 \\\\\n",
       "\t9 & 2 & 4.14525e-6 & 4.14525e-6 & 0.0 & 0.0 \\\\\n",
       "\t10 & 1 & 0.000105852 & 0.000105852 & 0.0 & 0.0 \\\\\n",
       "\\end{tabular}\n"
      ],
      "text/plain": [
       "\u001b[1m10×5 DataFrame\u001b[0m\n",
       "\u001b[1m Row \u001b[0m│\u001b[1m n_ops \u001b[0m\u001b[1m eval        \u001b[0m\u001b[1m eval_ft     \u001b[0m\u001b[1m eval_im \u001b[0m\u001b[1m eval_im_ft \u001b[0m\n",
       "     │\u001b[90m Int64 \u001b[0m\u001b[90m Float64     \u001b[0m\u001b[90m Float64     \u001b[0m\u001b[90m Float64 \u001b[0m\u001b[90m Float64    \u001b[0m\n",
       "─────┼──────────────────────────────────────────────────────\n",
       "   1 │    10  5.59716e-17  5.59716e-17      0.0         0.0\n",
       "   2 │     9  3.95838e-15  3.95838e-15      0.0         0.0\n",
       "   3 │     8  2.07464e-9   2.07464e-9       0.0         0.0\n",
       "   4 │     7  1.07905e-8   1.07905e-8       0.0         0.0\n",
       "   5 │     6  3.10022e-8   3.10022e-8       0.0         0.0\n",
       "   6 │     5  1.07919e-7   1.07919e-7       0.0         0.0\n",
       "   7 │     4  2.69401e-7   2.69401e-7       0.0         0.0\n",
       "   8 │     3  1.31692e-6   1.31692e-6       0.0         0.0\n",
       "   9 │     2  4.14525e-6   4.14525e-6       0.0         0.0\n",
       "  10 │     1  0.000105852  0.000105852      0.0         0.0"
      ]
     },
     "metadata": {},
     "output_type": "display_data"
    }
   ],
   "source": [
    "# Obtain eigenvalues for each decimation\n",
    "evals = [eigen(dec_mat(cm, i)).values[1] for i in 0:(size(cm)[1] - 1)]\n",
    "evals, evals_im = real(evals), imag(evals)\n",
    "n_ops = [size(cm)[1] - i for i in 0:(size(cm)[1] - 1)]\n",
    "\n",
    "evals_ft = [eigen(dec_mat(ft_cm, i)).values[1] for i in 0:(size(ft_cm)[1] - 1)]\n",
    "evals_ft, evals_im_ft = real(evals), imag(evals)\n",
    "\n",
    "df_evals = DataFrame(n_ops=n_ops, \n",
    "\t\t\t   eval=evals,\n",
    "\t\t\t   eval_ft=evals_ft,\n",
    "\t\t\t   eval_im=evals_im,\n",
    "\t\t\t   eval_im_ft=evals_im_ft)"
   ]
  },
  {
   "cell_type": "code",
   "execution_count": 25,
   "metadata": {},
   "outputs": [
    {
     "name": "stdout",
     "output_type": "stream",
     "text": [
      "\u001b[32m\u001b[1mWritten decimation data to ../data/hs_data/hs_truncations_n=21.csv\u001b[22m\u001b[39m\n"
     ]
    }
   ],
   "source": [
    "df = recon_df # innerjoin(df_evals, recon_df, on=:n_ops)\n",
    "fn = CSV.write(output_dir * \"hs_truncations_n=$n.csv\", df)\n",
    "printstyled(\"Written decimation data to $fn\\n\", bold=true, color=:green)"
   ]
  }
 ],
 "metadata": {
  "kernelspec": {
   "display_name": "Julia 1.7.3",
   "language": "julia",
   "name": "julia-1.7"
  },
  "language_info": {
   "file_extension": ".jl",
   "mimetype": "application/julia",
   "name": "julia",
   "version": "1.7.3"
  },
  "orig_nbformat": 4
 },
 "nbformat": 4,
 "nbformat_minor": 2
}
