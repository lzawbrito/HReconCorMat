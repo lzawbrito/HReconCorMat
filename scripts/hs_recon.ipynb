{
 "cells": [
  {
   "cell_type": "markdown",
   "metadata": {},
   "source": [
    "# Reconstruction (without truncations)\n",
    "_Author: Lucas Z. Brito_\n",
    "\n",
    "This notebook reconstructs the Haldane Shastry Hamiltonian. "
   ]
  },
  {
   "cell_type": "markdown",
   "metadata": {},
   "source": [
    "### Reconstruction and model parameters"
   ]
  },
  {
   "cell_type": "code",
   "execution_count": 17,
   "metadata": {},
   "outputs": [
    {
     "data": {
      "text/plain": [
       "\"../data/hs_data/\""
      ]
     },
     "metadata": {},
     "output_type": "display_data"
    }
   ],
   "source": [
    "n = 15 # Chain size \n",
    "atol = 1e-2 # Absolute error for sanity checks \n",
    "output_dir = \"../data/hs_data/\""
   ]
  },
  {
   "cell_type": "code",
   "execution_count": 18,
   "metadata": {},
   "outputs": [],
   "source": [
    "using JLD\n",
    "using DataFrames\n",
    "using CSV"
   ]
  },
  {
   "cell_type": "markdown",
   "metadata": {},
   "source": [
    "### Reconstruction"
   ]
  },
  {
   "cell_type": "code",
   "execution_count": 19,
   "metadata": {},
   "outputs": [
    {
     "data": {
      "text/plain": [
       "ft_mat"
      ]
     },
     "metadata": {},
     "output_type": "display_data"
    }
   ],
   "source": [
    "include(\"./src/hs_tools.jl\")\n",
    "\n",
    "# Make wavefunction and correlation matrix and save to a directory to avoid \n",
    "# running calculation again. \n",
    "# make_wf_cm(n, output_dir) # Can take roughly a minute for n > 10. "
   ]
  },
  {
   "cell_type": "code",
   "execution_count": 20,
   "metadata": {},
   "outputs": [
    {
     "data": {
      "text/plain": [
       "7-element Vector{Float64}:\n",
       " 0.9545164635108843\n",
       " 0.24941044899105871\n",
       " 0.11942737137332071\n",
       " 0.07471268217145025\n",
       " 0.05501485601695768\n",
       " 0.045617196677552305\n",
       " 0.04171694973359136"
      ]
     },
     "metadata": {},
     "output_type": "display_data"
    }
   ],
   "source": [
    "cm_wf = load(output_dir * \"cm_wf_n=$(n).jld\")\n",
    "k = cm_wf[\"wf\"]\n",
    "cm = cm_wf[\"cm\"]\n",
    "\n",
    "# Haldane shastry coefficients\n",
    "hs = normalize(hs_coeffs(n))\n",
    "hs"
   ]
  },
  {
   "cell_type": "code",
   "execution_count": 21,
   "metadata": {},
   "outputs": [
    {
     "name": "stdout",
     "output_type": "stream",
     "text": [
      "\u001b[0m\u001b[1mCorrelation matrix: \u001b[22m"
     ]
    },
    {
     "data": {
      "text/plain": [
       "7×7 Matrix{Float64}:\n",
       "  0.000148244  -0.00105604    0.00133091  …  -0.00027468   9.73776e-5\n",
       " -0.00105604    0.00783289   -0.0106379       0.00201063  -0.000652366\n",
       "  0.00133091   -0.0106379     0.0169953      -0.00357073   0.00114727\n",
       " -0.000765064   0.00622744   -0.0122958       0.0063077   -0.00191625\n",
       "  0.000519251  -0.00372461    0.00703097     -0.0110755    0.00336124\n",
       " -0.00027468    0.00201063   -0.00357073  …   0.0127606   -0.00615803\n",
       "  9.73776e-5   -0.000652366   0.00114727     -0.00615803   0.00412077"
      ]
     },
     "metadata": {},
     "output_type": "display_data"
    },
    {
     "name": "stdout",
     "output_type": "stream",
     "text": [
      "\u001b[0m\u001b[1mEigenvectors:\u001b[22m"
     ]
    },
    {
     "data": {
      "text/plain": [
       "7×7 Matrix{Float64}:\n",
       "  0.126542  0.971031     0.162166   …   0.0461879   0.0483046   0.0365501\n",
       " -0.308779  0.220943    -0.519117      -0.334357   -0.390117   -0.283295\n",
       " -0.389029  0.0826679   -0.474557       0.25098     0.556503    0.482074\n",
       " -0.416635  0.0351007   -0.184237       0.455535   -0.0959115  -0.529129\n",
       " -0.428796  0.0141462    0.0914333     -0.403587   -0.3968      0.514765\n",
       " -0.434598  0.00414906   0.393107   …  -0.483078    0.545509   -0.351977\n",
       " -0.437006  0.0          0.531205       0.468319   -0.267488    0.131012"
      ]
     },
     "metadata": {},
     "output_type": "display_data"
    },
    {
     "name": "stdout",
     "output_type": "stream",
     "text": [
      "\u001b[0m\u001b[1mEigenvalues:\u001b[22m"
     ]
    },
    {
     "data": {
      "text/plain": [
       "7-element Vector{Float64}:\n",
       " -2.1776887758105045e-17\n",
       "  2.374063944564353e-16\n",
       "  0.00044912975970302145\n",
       "  0.0019644949770810873\n",
       "  0.0068024889751717365\n",
       "  0.017622502379275536\n",
       "  0.047270374189586906"
      ]
     },
     "metadata": {},
     "output_type": "display_data"
    }
   ],
   "source": [
    "# Make correlation matrix\n",
    "# cm = make_corr_mat(n, k)\n",
    "\n",
    "printstyled(\"Correlation matrix: \", bold=true); flush(stdout)\n",
    "display(cm)\n",
    "\n",
    "# Diagonalize correlation matrix\n",
    "eig = eigen(cm)\n",
    "\n",
    "printstyled(\"Eigenvectors:\", bold=true); flush(stdout)\n",
    "display(eig.vectors)\n",
    "printstyled(\"Eigenvalues:\", bold=true); flush(stdout)\n",
    "display(eig.values)"
   ]
  },
  {
   "cell_type": "code",
   "execution_count": 22,
   "metadata": {},
   "outputs": [
    {
     "name": "stdout",
     "output_type": "stream",
     "text": [
      "\u001b[32m\u001b[1mHamiltonian is in nullspace ✓\u001b[22m\u001b[39m\n",
      "\u001b[32m\u001b[1mS_tot is in nullspace ✓\u001b[22m\u001b[39m\n",
      "(atol = 0.01)\n"
     ]
    }
   ],
   "source": [
    "# Check that conserved quantity and Hamiltonian are in nullspace of CM\n",
    "nullsp = eig.vectors[:, 1:2]\n",
    "\n",
    "h_proj, h_is_in_nsp = in_subspace(nullsp, hs, atol)\n",
    "# in_subspace([eig.vectors[:, 1]], hs, atol)\n",
    "\n",
    "conserved_quant = normalize(ones(trunc(Int, n / 2)))\n",
    "stot_proj, stot_is_in_nsp = in_subspace(nullsp, conserved_quant, atol)\n",
    "\n",
    "# Project HS coefficient onto nullspace; this will be our \"reconstructed \n",
    "# Hamiltonian.\"\n",
    "coeffs_recon = nullsp * inv(nullsp' * nullsp) * nullsp' * hs\n",
    "\n",
    "if h_is_in_nsp\n",
    "\tprintstyled(\"Hamiltonian is in nullspace ✓\", bold=true, color=:green)\n",
    "else \n",
    "\tprintstyled(\"Hamiltonian is not in nullspace ×\", bold=true, color=:red)\n",
    "end \n",
    "\n",
    "println()\n",
    "\n",
    "if stot_is_in_nsp\n",
    "\tprintstyled(\"S_tot is in nullspace ✓\", bold=true, color=:green)\n",
    "else \n",
    "\tprintstyled(\"S_tot is not in nullspace ×\", bold=true, color=:red)\n",
    "end \n",
    "\n",
    "println()\n",
    "println(\"(atol = $atol)\")"
   ]
  },
  {
   "cell_type": "code",
   "execution_count": 23,
   "metadata": {},
   "outputs": [
    {
     "name": "stdout",
     "output_type": "stream",
     "text": [
      "\u001b[0m\u001b[1mProjections onto nullspace:\u001b[22m\n",
      "H:\t1.0000000000000002\n",
      "S_tot:\t1.0000000000000002\n"
     ]
    }
   ],
   "source": [
    "printstyled(\"Projections onto nullspace:\\n\", bold=true)\n",
    "print(\"H:\\t\")\n",
    "print(h_proj)\n",
    "println()\n",
    "print(\"S_tot:\\t\")\n",
    "print(stot_proj)\n",
    "println()"
   ]
  },
  {
   "cell_type": "code",
   "execution_count": 24,
   "metadata": {},
   "outputs": [
    {
     "ename": "UndefVarError",
     "evalue": "UndefVarError: fn not defined",
     "output_type": "error",
     "traceback": [
      "UndefVarError: fn not defined\n",
      "\n",
      "Stacktrace:\n",
      " [1] top-level scope\n",
      "   @ ~/projects/HReconCorMat/scripts/hs_recon.ipynb:7"
     ]
    }
   ],
   "source": [
    "# Save data \n",
    "df = DataFrame(r=1:(trunc(Int, n / 2)), \n",
    "\t\t\t\tn=n,\n",
    "\t\t\t\tcoeffs_anal=hs, \n",
    "\t\t\t\tcoeffs_recon=real.(coeffs_recon))\n",
    "fn = CSV.write(output_dir * \"hs_recon_n=$n.csv\", df)\n",
    "printstyled(\"Written reconstruction data to $fn.\", bold=true, color=:green)"
   ]
  }
 ],
 "metadata": {
  "kernelspec": {
   "display_name": "Julia 1.7.3",
   "language": "julia",
   "name": "julia-1.7"
  },
  "language_info": {
   "file_extension": ".jl",
   "mimetype": "application/julia",
   "name": "julia",
   "version": "1.7.3"
  },
  "orig_nbformat": 4
 },
 "nbformat": 4,
 "nbformat_minor": 2
}
