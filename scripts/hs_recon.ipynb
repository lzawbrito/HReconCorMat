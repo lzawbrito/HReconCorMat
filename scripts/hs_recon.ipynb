{
 "cells": [
  {
   "cell_type": "markdown",
   "metadata": {},
   "source": [
    "# Reconstruction (without truncations)\n",
    "_Author: Lucas Z. Brito_\n",
    "\n",
    "This notebook reconstructs the Haldane Shastry Hamiltonian. "
   ]
  },
  {
   "cell_type": "markdown",
   "metadata": {},
   "source": [
    "### Reconstruction and model parameters"
   ]
  },
  {
   "cell_type": "code",
   "execution_count": 113,
   "metadata": {},
   "outputs": [
    {
     "data": {
      "text/plain": [
       "true"
      ]
     },
     "metadata": {},
     "output_type": "display_data"
    }
   ],
   "source": [
    "n = 14 # Chain size \n",
    "atol = 1e-2 # Absolute error for sanity checks \n",
    "output_dir = \"../data/hs_data/\""
   ]
  },
  {
   "cell_type": "code",
   "execution_count": 114,
   "metadata": {},
   "outputs": [],
   "source": [
    "using JLD\n",
    "using DataFrames\n",
    "using CSV"
   ]
  },
  {
   "cell_type": "markdown",
   "metadata": {},
   "source": [
    "### Reconstruction"
   ]
  },
  {
   "cell_type": "code",
   "execution_count": 115,
   "metadata": {},
   "outputs": [
    {
     "data": {
      "text/plain": [
       "ft_mat"
      ]
     },
     "metadata": {},
     "output_type": "display_data"
    }
   ],
   "source": [
    "include(\"./src/hs_tools.jl\")\n",
    "\n",
    "# Make wavefunction and correlation matrix and save to a directory to avoid \n",
    "# running calculation again. \n",
    "# make_wf_cm(n, output_dir) # Can take roughly a minute for n > 10. "
   ]
  },
  {
   "cell_type": "code",
   "execution_count": 116,
   "metadata": {},
   "outputs": [
    {
     "data": {
      "text/plain": [
       "7-element Vector{Float64}:\n",
       " 0.9530925643018818\n",
       " 0.2506860002798336\n",
       " 0.1213998418206907\n",
       " 0.07720590544912054\n",
       " 0.058137621516648516\n",
       " 0.04965143681745279\n",
       " 0.047192917818300865"
      ]
     },
     "metadata": {},
     "output_type": "display_data"
    }
   ],
   "source": [
    "cm_wf = load(output_dir * \"cm_wf_n=$(n).jld\")\n",
    "k = cm_wf[\"wf\"]\n",
    "cm = cm_wf[\"cm\"]\n",
    "\n",
    "# Haldane shastry coefficients\n",
    "hs = normalize(hs_coeffs(n))\n",
    "hs"
   ]
  },
  {
   "cell_type": "code",
   "execution_count": 117,
   "metadata": {},
   "outputs": [
    {
     "name": "stdout",
     "output_type": "stream",
     "text": [
      "\u001b[0m\u001b[1mCorrelation matrix: \u001b[22m"
     ]
    },
    {
     "data": {
      "text/plain": [
       "7×7 Matrix{Float64}:\n",
       "  0.000154086  -0.00113149   0.00155612  …  -0.000890853   0.000876484\n",
       " -0.00113149    0.00859663  -0.0124836       0.00624265   -0.00600894\n",
       "  0.00155612   -0.0124836    0.0202904      -0.00988669    0.00941036\n",
       " -0.00111394    0.0087682   -0.015994        0.0150265    -0.0137606\n",
       "  0.000987839  -0.00698792   0.0118126      -0.0229371     0.02038\n",
       " -0.000890853   0.00624265  -0.00988669  …   0.0286341    -0.0323772\n",
       "  0.000876484  -0.00600894   0.00941036     -0.0323772     0.0429597"
      ]
     },
     "metadata": {},
     "output_type": "display_data"
    },
    {
     "name": "stdout",
     "output_type": "stream",
     "text": [
      "\u001b[0m\u001b[1mEigenvectors:\u001b[22m"
     ]
    },
    {
     "data": {
      "text/plain": [
       "7×7 Matrix{Float64}:\n",
       " -0.189141   0.962472    0.163905   …   0.0419732  -0.0414549   0.0232851\n",
       " -0.3878     0.0984516  -0.576335      -0.349174    0.346919   -0.171448\n",
       " -0.424366  -0.0605815  -0.444381       0.448966   -0.581393    0.280896\n",
       " -0.436865  -0.114944   -0.0736056      0.225626    0.408426   -0.356114\n",
       " -0.442258  -0.138399    0.241724      -0.664731   -0.138311    0.445181\n",
       " -0.444659  -0.148838    0.544438   …   0.0887131  -0.26141    -0.502032\n",
       " -0.222677  -0.0759312   0.28851        0.417254    0.534446    0.560465"
      ]
     },
     "metadata": {},
     "output_type": "display_data"
    },
    {
     "name": "stdout",
     "output_type": "stream",
     "text": [
      "\u001b[0m\u001b[1mEigenvalues:\u001b[22m"
     ]
    },
    {
     "data": {
      "text/plain": [
       "7-element Vector{Float64}:\n",
       " -1.878734222777117e-16\n",
       "  1.0916773795330031e-15\n",
       "  0.00045451675152171516\n",
       "  0.0023149155419541372\n",
       "  0.011409607476143346\n",
       "  0.02880047658991191\n",
       "  0.103483444260802"
      ]
     },
     "metadata": {},
     "output_type": "display_data"
    }
   ],
   "source": [
    "# Make correlation matrix\n",
    "# cm = make_corr_mat(n, k)\n",
    "\n",
    "printstyled(\"Correlation matrix: \", bold=true); flush(stdout)\n",
    "display(cm)\n",
    "\n",
    "# Diagonalize correlation matrix\n",
    "eig = eigen(cm)\n",
    "\n",
    "printstyled(\"Eigenvectors:\", bold=true); flush(stdout)\n",
    "display(eig.vectors)\n",
    "printstyled(\"Eigenvalues:\", bold=true); flush(stdout)\n",
    "display(eig.values)"
   ]
  },
  {
   "cell_type": "code",
   "execution_count": 118,
   "metadata": {},
   "outputs": [
    {
     "name": "stdout",
     "output_type": "stream",
     "text": [
      "\u001b[32m\u001b[1mHamiltonian is in nullspace ✓\u001b[22m\u001b[39m\n",
      "\u001b[31m\u001b[1mS_tot is not in nullspace ×\u001b[22m\u001b[39m\n",
      "(atol = 0.01)\n"
     ]
    }
   ],
   "source": [
    "# Check that conserved quantity and Hamiltonian are in nullspace of CM\n",
    "nullsp = eig.vectors[:, 1:2]\n",
    "\n",
    "h_proj, h_is_in_nsp = in_subspace(nullsp, hs, atol)\n",
    "# in_subspace([eig.vectors[:, 1]], hs, atol)\n",
    "\n",
    "conserved_quant = normalize(ones(trunc(Int, n / 2)))\n",
    "stot_proj, stot_is_in_nsp = in_subspace(nullsp, conserved_quant, atol)\n",
    "\n",
    "# Project HS coefficient onto nullspace; this will be our \"reconstructed \n",
    "# Hamiltonian.\"\n",
    "coeffs_recon = nullsp * inv(nullsp' * nullsp) * nullsp' * hs\n",
    "\n",
    "if h_is_in_nsp\n",
    "\tprintstyled(\"Hamiltonian is in nullspace ✓\", bold=true, color=:green)\n",
    "else \n",
    "\tprintstyled(\"Hamiltonian is not in nullspace ×\", bold=true, color=:red)\n",
    "end \n",
    "\n",
    "println()\n",
    "\n",
    "if stot_is_in_nsp\n",
    "\tprintstyled(\"S_tot is in nullspace ✓\", bold=true, color=:green)\n",
    "else \n",
    "\tprintstyled(\"S_tot is not in nullspace ×\", bold=true, color=:red)\n",
    "end \n",
    "\n",
    "println()\n",
    "println(\"(atol = $atol)\")"
   ]
  },
  {
   "cell_type": "code",
   "execution_count": 119,
   "metadata": {},
   "outputs": [
    {
     "name": "stdout",
     "output_type": "stream",
     "text": [
      "\u001b[0m\u001b[1mProjections onto nullspace:\u001b[22m\n",
      "H:\t0.9994740259206449\n",
      "S_tot:\t0.9662625197679772\n"
     ]
    }
   ],
   "source": [
    "printstyled(\"Projections onto nullspace:\\n\", bold=true)\n",
    "print(\"H:\\t\")\n",
    "print(h_proj)\n",
    "println()\n",
    "print(\"S_tot:\\t\")\n",
    "print(stot_proj)\n",
    "println()"
   ]
  },
  {
   "cell_type": "code",
   "execution_count": 120,
   "metadata": {},
   "outputs": [
    {
     "name": "stdout",
     "output_type": "stream",
     "text": [
      "\u001b[32m\u001b[1mWritten reconstruction data to ../data/hs_data/recon_n=14.csv.\u001b[22m\u001b[39m"
     ]
    }
   ],
   "source": [
    "# Save data \n",
    "begin\n",
    "\tdf = DataFrame(r=1:(trunc(Int, n / 2)), \n",
    "\t\t\t\t   n=n,\n",
    "\t\t\t\t   coeffs_anal=hs, \n",
    "\t\t\t\t   coeffs_recon=real.(coeffs_recon))\n",
    "\tfn = CSV.write(output_dir * \"hs_recon_n=$n.csv\", df)\n",
    "\tprintstyled(\"Written reconstruction data to $fn.\", bold=true, color=:green)\n",
    "end"
   ]
  }
 ],
 "metadata": {
  "kernelspec": {
   "display_name": "Julia 1.7.3",
   "language": "julia",
   "name": "julia-1.7"
  },
  "language_info": {
   "file_extension": ".jl",
   "mimetype": "application/julia",
   "name": "julia",
   "version": "1.7.3"
  },
  "orig_nbformat": 4
 },
 "nbformat": 4,
 "nbformat_minor": 2
}
