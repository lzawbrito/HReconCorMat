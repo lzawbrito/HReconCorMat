{
 "cells": [
  {
   "cell_type": "markdown",
   "metadata": {},
   "source": [
    "# Reconstruction (without truncations)\n",
    "_Author: Lucas Z. Brito_\n",
    "\n",
    "This notebook reconstructs the Haldane Shastry Hamiltonian. "
   ]
  },
  {
   "cell_type": "markdown",
   "metadata": {},
   "source": [
    "### Reconstruction and model parameters"
   ]
  },
  {
   "cell_type": "code",
   "execution_count": 25,
   "metadata": {},
   "outputs": [
    {
     "data": {
      "text/plain": [
       "\"../data/hs_data/\""
      ]
     },
     "metadata": {},
     "output_type": "display_data"
    }
   ],
   "source": [
    "n = 21 # Chain size \n",
    "atol = 1e-2 # Absolute error for sanity checks \n",
    "output_dir = \"../data/hs_data/\""
   ]
  },
  {
   "cell_type": "code",
   "execution_count": 26,
   "metadata": {},
   "outputs": [],
   "source": [
    "using JLD\n",
    "using DataFrames\n",
    "using CSV"
   ]
  },
  {
   "cell_type": "markdown",
   "metadata": {},
   "source": [
    "### Reconstruction"
   ]
  },
  {
   "cell_type": "code",
   "execution_count": 27,
   "metadata": {},
   "outputs": [
    {
     "data": {
      "text/plain": [
       "ft_mat"
      ]
     },
     "metadata": {},
     "output_type": "display_data"
    }
   ],
   "source": [
    "include(\"./src/hs_tools.jl\")\n",
    "\n",
    "# Make wavefunction and correlation matrix and save to a directory to avoid \n",
    "# running calculation again. \n",
    "# make_wf_cm(n, output_dir) # Can take roughly a minute for n > 10. "
   ]
  },
  {
   "cell_type": "code",
   "execution_count": 28,
   "metadata": {},
   "outputs": [
    {
     "data": {
      "text/plain": [
       "10-element Vector{Float64}:\n",
       " 0.9576499897788423\n",
       " 0.24485153069866578\n",
       " 0.11300013198803671\n",
       " 0.06703710767239983\n",
       " 0.045981936502955886\n",
       " 0.03480161435528048\n",
       " 0.02836380138986998\n",
       " 0.024549583758207708\n",
       " 0.02238106199590267\n",
       " 0.021392318302687525"
      ]
     },
     "metadata": {},
     "output_type": "display_data"
    }
   ],
   "source": [
    "cm_wf = load(output_dir * \"cm_wf_n=$n.jld\")\n",
    "k = cm_wf[\"wf\"]\n",
    "cm = cm_wf[\"cm\"]\n",
    "\n",
    "# Haldane shastry coefficients\n",
    "hs = normalize(hs_coeffs(n))\n",
    "hs"
   ]
  },
  {
   "cell_type": "code",
   "execution_count": 34,
   "metadata": {},
   "outputs": [
    {
     "name": "stdout",
     "output_type": "stream",
     "text": [
      "\u001b[0m\u001b[1mCorrelation matrix: \u001b[22m"
     ]
    },
    {
     "data": {
      "text/plain": [
       "10×10 Matrix{Float64}:\n",
       "  0.000105852  -0.00075804    0.000982603  …   9.73075e-5   -3.04e-5\n",
       " -0.00075804    0.00565397   -0.00785232      -0.000646765   0.000209349\n",
       "  0.000982603  -0.00785232    0.0126316        0.00102596   -0.000329301\n",
       " -0.000615588   0.00492544   -0.0094629       -0.00150226    0.000480461\n",
       "  0.000470139  -0.00333966    0.00603574       0.0021262    -0.000668826\n",
       " -0.000334716   0.00236379   -0.00398135   …  -0.00310966    0.000967473\n",
       "  0.000246625  -0.00167261    0.0027371        0.0048687    -0.00144025\n",
       " -0.000163782   0.00111685   -0.00178712      -0.00827655    0.00243408\n",
       "  9.73075e-5   -0.000646765   0.00102596       0.0097195    -0.00430244\n",
       " -3.04e-5       0.000209349  -0.000329301     -0.00430244    0.00267986"
      ]
     },
     "metadata": {},
     "output_type": "display_data"
    },
    {
     "name": "stdout",
     "output_type": "stream",
     "text": [
      "\u001b[0m\u001b[1mEigenvectors:\u001b[22m"
     ]
    },
    {
     "data": {
      "text/plain": [
       "10×10 Matrix{Float64}:\n",
       " 0.0694787   0.97186     0.159771   …  -0.0389301   0.0339759   0.0248761\n",
       " 0.279489    0.179777   -0.404979       0.318322   -0.27541    -0.186352\n",
       " 0.318336    0.0332595  -0.439314      -0.45566     0.458349    0.314918\n",
       " 0.331878   -0.017816   -0.340725       0.0492571  -0.374148   -0.386625\n",
       " 0.338081   -0.0412131  -0.209004       0.367213    0.202339    0.448151\n",
       " 0.341375   -0.053637   -0.0262217  …  -0.431388    0.0948351  -0.441139\n",
       " 0.343272   -0.0607909   0.12895        0.167851   -0.358262    0.409413\n",
       " 0.344396   -0.0650294   0.28915        0.271012    0.463799   -0.321925\n",
       " 0.345035   -0.0674391   0.389769      -0.465796   -0.396051    0.210209\n",
       " 0.345326   -0.0685378   0.452603       0.218119    0.150573   -0.0715251"
      ]
     },
     "metadata": {},
     "output_type": "display_data"
    },
    {
     "name": "stdout",
     "output_type": "stream",
     "text": [
      "\u001b[0m\u001b[1mEigenvalues:\u001b[22m"
     ]
    },
    {
     "data": {
      "text/plain": [
       "10-element Vector{Float64}:\n",
       " 5.597155483673694e-17\n",
       " 4.112156177434893e-15\n",
       " 0.0001320969630435512\n",
       " 0.0005502731341263991\n",
       " 0.001383283397916225\n",
       " 0.0028589158059040757\n",
       " 0.0066238521130070034\n",
       " 0.011851740930315715\n",
       " 0.02204544932218035\n",
       " 0.04928470613871315"
      ]
     },
     "metadata": {},
     "output_type": "display_data"
    }
   ],
   "source": [
    "# Make correlation matrix\n",
    "# cm = make_corr_mat(n, k)\n",
    "\n",
    "printstyled(\"Correlation matrix: \", bold=true); flush(stdout)\n",
    "display(cm)\n",
    "\n",
    "# Diagonalize correlation matrix\n",
    "eig = eigen(cm)\n",
    "\n",
    "printstyled(\"Eigenvectors:\", bold=true); flush(stdout)\n",
    "display(eig.vectors)\n",
    "printstyled(\"Eigenvalues:\", bold=true); flush(stdout)\n",
    "display(eig.values)"
   ]
  },
  {
   "cell_type": "code",
   "execution_count": 35,
   "metadata": {},
   "outputs": [
    {
     "name": "stdout",
     "output_type": "stream",
     "text": [
      "\u001b[32m\u001b[1mHamiltonian is in nullspace ✓\u001b[22m\u001b[39m\n",
      "\u001b[32m\u001b[1mS_tot is in nullspace ✓\u001b[22m\u001b[39m\n",
      "(atol = 0.01)\n"
     ]
    }
   ],
   "source": [
    "# Check that conserved quantity and Hamiltonian are in nullspace of CM\n",
    "nullsp = eig.vectors[:, 1:2]\n",
    "\n",
    "h_proj, h_is_in_nsp = in_subspace(nullsp, hs, atol)\n",
    "# in_subspace([eig.vectors[:, 1]], hs, atol)\n",
    "\n",
    "conserved_quant = normalize(ones(trunc(Int, n / 2)))\n",
    "stot_proj, stot_is_in_nsp = in_subspace(nullsp, conserved_quant, atol)\n",
    "\n",
    "# Project HS coefficient onto nullspace; this will be our \"reconstructed \n",
    "# Hamiltonian.\"\n",
    "coeffs_recon = nullsp * inv(nullsp' * nullsp) * nullsp' * hs\n",
    "\n",
    "if h_is_in_nsp\n",
    "\tprintstyled(\"Hamiltonian is in nullspace ✓\", bold=true, color=:green)\n",
    "else \n",
    "\tprintstyled(\"Hamiltonian is not in nullspace ×\", bold=true, color=:red)\n",
    "end \n",
    "\n",
    "println()\n",
    "\n",
    "if stot_is_in_nsp\n",
    "\tprintstyled(\"S_tot is in nullspace ✓\", bold=true, color=:green)\n",
    "else \n",
    "\tprintstyled(\"S_tot is not in nullspace ×\", bold=true, color=:red)\n",
    "end \n",
    "\n",
    "println()\n",
    "println(\"(atol = $atol)\")"
   ]
  },
  {
   "cell_type": "code",
   "execution_count": 36,
   "metadata": {},
   "outputs": [
    {
     "name": "stdout",
     "output_type": "stream",
     "text": [
      "\u001b[0m\u001b[1mProjections onto nullspace:\u001b[22m\n",
      "H:\t1.0000000000000002\n",
      "S_tot:\t1.0000000000000004\n"
     ]
    }
   ],
   "source": [
    "printstyled(\"Projections onto nullspace:\\n\", bold=true)\n",
    "print(\"H:\\t\")\n",
    "print(h_proj)\n",
    "println()\n",
    "print(\"S_tot:\\t\")\n",
    "print(stot_proj)\n",
    "println()"
   ]
  },
  {
   "cell_type": "code",
   "execution_count": 37,
   "metadata": {},
   "outputs": [
    {
     "name": "stdout",
     "output_type": "stream",
     "text": [
      "\u001b[32m\u001b[1mWritten reconstruction data to ../data/hs_data/recon_n=21.csv.\u001b[22m\u001b[39m"
     ]
    }
   ],
   "source": [
    "# Save data \n",
    "begin\n",
    "\tdf = DataFrame(r=1:(trunc(Int, n / 2)), \n",
    "\t\t\t\t   n=n,\n",
    "\t\t\t\t   coeffs_anal=hs, \n",
    "\t\t\t\t   coeffs_recon=real.(coeffs_recon))\n",
    "\tfn = CSV.write(output_dir * \"recon_n=$n.csv\", df)\n",
    "\tprintstyled(\"Written reconstruction data to $fn.\", bold=true, color=:green)\n",
    "end"
   ]
  }
 ],
 "metadata": {
  "kernelspec": {
   "display_name": "Julia 1.7.3",
   "language": "julia",
   "name": "julia-1.7"
  },
  "language_info": {
   "file_extension": ".jl",
   "mimetype": "application/julia",
   "name": "julia",
   "version": "1.7.3"
  },
  "orig_nbformat": 4
 },
 "nbformat": 4,
 "nbformat_minor": 2
}
