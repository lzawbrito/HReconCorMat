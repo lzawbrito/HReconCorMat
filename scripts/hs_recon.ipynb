{
 "cells": [
  {
   "cell_type": "markdown",
   "metadata": {},
   "source": [
    "# Reconstruction (without truncations)\n",
    "_Author: Lucas Z. Brito_\n",
    "\n",
    "This notebook reconstructs the Haldane Shastry Hamiltonian. "
   ]
  },
  {
   "cell_type": "markdown",
   "metadata": {},
   "source": [
    "### Reconstruction and model parameters"
   ]
  },
  {
   "cell_type": "code",
   "execution_count": 76,
   "metadata": {},
   "outputs": [
    {
     "data": {
      "text/plain": [
       "\"../data/hs_data/\""
      ]
     },
     "metadata": {},
     "output_type": "display_data"
    }
   ],
   "source": [
    "n = 5 # Chain size \n",
    "atol = 1e-2 # Absolute error for sanity checks \n",
    "output_dir = \"../data/hs_data/\""
   ]
  },
  {
   "cell_type": "code",
   "execution_count": 77,
   "metadata": {},
   "outputs": [],
   "source": [
    "using JLD\n",
    "using DataFrames\n",
    "using CSV"
   ]
  },
  {
   "cell_type": "markdown",
   "metadata": {},
   "source": [
    "### Reconstruction"
   ]
  },
  {
   "cell_type": "code",
   "execution_count": 78,
   "metadata": {},
   "outputs": [
    {
     "name": "stdout",
     "output_type": "stream",
     "text": [
      "\n",
      "Making wavefunction... Done.\n",
      "Making correlation matrix... Done.\n"
     ]
    },
    {
     "name": "stdout",
     "output_type": "stream",
     "text": [
      "Saved to ../data/hs_data//cm_wf_n=5.jld\n"
     ]
    },
    {
     "data": {
      "text/plain": [
       "Dict{String, Array} with 2 entries:\n",
       "  \"wf\" => ComplexF64[0.0+0.0im, 0.0+0.0im, 0.0+0.0im, 0.129099+0.0937962im, 0.0…\n",
       "  \"cm\" => [5.55112e-17 -6.93889e-18; -6.93889e-18 3.46945e-18]"
      ]
     },
     "metadata": {},
     "output_type": "display_data"
    }
   ],
   "source": [
    "include(\"./src/hs_tools.jl\")\n",
    "\n",
    "# Make wavefunction and correlation matrix and save to a directory to avoid \n",
    "# running calculation again. \n",
    "make_wf_cm(n, output_dir) # Can take roughly a minute for n > 10. "
   ]
  },
  {
   "cell_type": "code",
   "execution_count": 79,
   "metadata": {},
   "outputs": [
    {
     "data": {
      "text/plain": [
       "2-element Vector{Float64}:\n",
       " 0.9341723589627157\n",
       " 0.35682208977308993"
      ]
     },
     "metadata": {},
     "output_type": "display_data"
    }
   ],
   "source": [
    "cm_wf = load(output_dir * \"cm_wf_n=$n.jld\")\n",
    "k = cm_wf[\"wf\"]\n",
    "cm = cm_wf[\"cm\"]\n",
    "\n",
    "# Haldane shastry coefficients\n",
    "hs = normalize(hs_coeffs(n))\n",
    "hs"
   ]
  },
  {
   "cell_type": "code",
   "execution_count": 80,
   "metadata": {},
   "outputs": [
    {
     "name": "stdout",
     "output_type": "stream",
     "text": [
      "\u001b[0m\u001b[1mCorrelation matrix: \u001b[22m"
     ]
    },
    {
     "data": {
      "text/plain": [
       "2×2 Matrix{Float64}:\n",
       "  5.55112e-17  -6.93889e-18\n",
       " -6.93889e-18   3.46945e-18"
      ]
     },
     "metadata": {},
     "output_type": "display_data"
    },
    {
     "name": "stdout",
     "output_type": "stream",
     "text": [
      "\u001b[0m\u001b[1mEigenvectors:\u001b[22m"
     ]
    },
    {
     "data": {
      "text/plain": [
       "2×2 Matrix{Float64}:\n",
       " -0.129933  -0.991523\n",
       " -0.991523   0.129933"
      ]
     },
     "metadata": {},
     "output_type": "display_data"
    },
    {
     "name": "stdout",
     "output_type": "stream",
     "text": [
      "\u001b[0m\u001b[1mEigenvalues:\u001b[22m"
     ]
    },
    {
     "data": {
      "text/plain": [
       "2-element Vector{Float64}:\n",
       " 2.5601488008383387e-18\n",
       " 5.642044938237311e-17"
      ]
     },
     "metadata": {},
     "output_type": "display_data"
    }
   ],
   "source": [
    "# Make correlation matrix\n",
    "cm = make_corr_mat(n, k)\n",
    "\n",
    "printstyled(\"Correlation matrix: \", bold=true); flush(stdout)\n",
    "display(cm)\n",
    "\n",
    "# Diagonalize correlation matrix\n",
    "eig = eigen(re_cm)\n",
    "\n",
    "printstyled(\"Eigenvectors:\", bold=true); flush(stdout)\n",
    "display(eig.vectors)\n",
    "printstyled(\"Eigenvalues:\", bold=true); flush(stdout)\n",
    "display(eig.values)"
   ]
  },
  {
   "cell_type": "code",
   "execution_count": 81,
   "metadata": {},
   "outputs": [
    {
     "name": "stdout",
     "output_type": "stream",
     "text": [
      "\u001b[32m\u001b[1mHamiltonian is in nullspace ✓\u001b[22m\u001b[39m\n",
      "\u001b[32m\u001b[1mS_tot is in nullspace ✓\u001b[22m\u001b[39m\n",
      "(atol = 0.01)\n"
     ]
    }
   ],
   "source": [
    "# Check that conserved quantity and Hamiltonian are in nullspace of CM\n",
    "\n",
    "nullsp = [normalize(eig.vectors[:, i]) for i in 1:2]\n",
    "h_proj, h_is_in_nsp = in_nsp(nullsp, hs, atol)\n",
    "in_nsp([eig.vectors[:, 1]], hs, atol)\n",
    "\n",
    "conserved_quant = normalize(ones(trunc(Int, n / 2)))\n",
    "stot_proj, stot_is_in_nsp = in_nsp(nullsp, conserved_quant, atol)\n",
    "\n",
    "# Project HS coefficient onto nullspace; this will be our \"reconstructed \n",
    "# Hamiltonian.\"\n",
    "coeffs_recon = reduce((a, b) -> a + dot(b, hs) * normalize(b), nullsp; \n",
    "\t\t\t\t\tinit=zeros(trunc(Int, n / 2)))\n",
    "\n",
    "if h_is_in_nsp\n",
    "\tprintstyled(\"Hamiltonian is in nullspace ✓\", bold=true, color=:green)\n",
    "else \n",
    "\tprintstyled(\"Hamiltonian is not in nullspace ×\", bold=true, color=:red)\n",
    "end \n",
    "\n",
    "println()\n",
    "\n",
    "if stot_is_in_nsp\n",
    "\tprintstyled(\"S_tot is in nullspace ✓\", bold=true, color=:green)\n",
    "else \n",
    "\tprintstyled(\"S_tot is not in nullspace ×\", bold=true, color=:red)\n",
    "end \n",
    "\n",
    "println()\n",
    "println(\"(atol = $atol)\")"
   ]
  },
  {
   "cell_type": "code",
   "execution_count": 82,
   "metadata": {},
   "outputs": [
    {
     "name": "stdout",
     "output_type": "stream",
     "text": [
      "\u001b[0m\u001b[1mProjections onto nullspace:\u001b[22m\n",
      "H:\t0.9999999999999999\n",
      "S_tot:\t0.9999999999999998\n"
     ]
    }
   ],
   "source": [
    "printstyled(\"Projections onto nullspace:\\n\", bold=true)\n",
    "print(\"H:\\t\")\n",
    "print(h_proj)\n",
    "println()\n",
    "print(\"S_tot:\\t\")\n",
    "print(stot_proj)\n",
    "println()"
   ]
  },
  {
   "cell_type": "code",
   "execution_count": 83,
   "metadata": {},
   "outputs": [
    {
     "name": "stdout",
     "output_type": "stream",
     "text": [
      "\u001b[32m\u001b[1mWritten reconstruction data to ../data/hs_data/recon_n=5.csv\u001b[22m\u001b[39m"
     ]
    }
   ],
   "source": [
    "# Save data \n",
    "begin\n",
    "\tdf = DataFrame(r=1:(trunc(Int, n / 2)), \n",
    "\t\t\t\t   n=n,\n",
    "\t\t\t\t   coeffs_anal=hs, \n",
    "\t\t\t\t   coeffs_recon=real.(coeffs_recon))\n",
    "\tfn = CSV.write(output_dir * \"recon_n=$n.csv\", df)\n",
    "\tprintstyled(\"Written reconstruction data to $fn.\", bold=true, color=:green)\n",
    "end"
   ]
  }
 ],
 "metadata": {
  "kernelspec": {
   "display_name": "Julia 1.7.3",
   "language": "julia",
   "name": "julia-1.7"
  },
  "language_info": {
   "file_extension": ".jl",
   "mimetype": "application/julia",
   "name": "julia",
   "version": "1.7.3"
  },
  "orig_nbformat": 4
 },
 "nbformat": 4,
 "nbformat_minor": 2
}
