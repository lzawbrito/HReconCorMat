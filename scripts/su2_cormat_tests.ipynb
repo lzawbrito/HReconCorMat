{
 "cells": [
  {
   "cell_type": "markdown",
   "metadata": {},
   "source": [
    "_Author: Stephen Carr_"
   ]
  },
  {
   "cell_type": "code",
   "execution_count": 1,
   "metadata": {},
   "outputs": [],
   "source": [
    "using DMRJtensor\n",
    "include(\"su2_tools.jl\");\n"
   ]
  },
  {
   "cell_type": "code",
   "execution_count": 32,
   "metadata": {},
   "outputs": [
    {
     "data": {
      "text/plain": [
       "3×1 Array{Float64,2}:\n",
       " 0.18961747332757337\n",
       " 1.0                \n",
       " 0.06561242631240016"
      ]
     },
     "metadata": {},
     "output_type": "display_data"
    },
    {
     "name": "stdout",
     "output_type": "stream",
     "text": [
      "printing regular tensor of type: tens{Complex{Float64}}\n",
      "size = (1, 4, 1)\n",
      "T = Complex{Float64}[0.27738283657590235 + 0.3624806138193597im, 0.2876832295911138 + 0.13148332679484054im, 0.9759426147167469 + 0.38246237190211696im, 0.42843423217216925 + 0.8319175827530845im]\n",
      "\n"
     ]
    }
   ],
   "source": [
    "# setup system with isotropic J\n",
    "spinmag = 1.5;\n",
    "Sx,Sy,Sz,Sp,Sm,O,Id = spinOps(spinmag)\n",
    "Ns = 20 # number of sites\n",
    "nSpin = size(Sx,1)\n",
    "max_p = nSpin-1\n",
    "\n",
    "\n",
    "#J_arr = 2.0*(rand(max_p,1) .- 0.5) # random values between [-1,1]\n",
    "J_arr = rand(max_p,1) # random values between [0,1]\n",
    "\n",
    "J_arr = J_arr ./ maximum(broadcast(abs,J_arr))\n",
    "display(J_arr)\n",
    "H_onesite, H_op_vec = H_SU2(spinmag, J_arr) # make the onsite term\n",
    "\n",
    "H_mpo = makeMPO(H_onesite,size(Id,1),Ns); # make the MPO!\n",
    "psi0 = makePsi0(spinmag,Ns);\n",
    "psi = copy(psi0)\n",
    "println(psi[1])"
   ]
  },
  {
   "cell_type": "code",
   "execution_count": 33,
   "metadata": {},
   "outputs": [],
   "source": [
    "nOps = length(H_op_vec)\n",
    "MPO_op_vec = []\n",
    "for idx = 1:nOps\n",
    "    MPO_here = makeMPO(H_op_vec[idx],size(Id,1),Ns);\n",
    "    push!(MPO_op_vec, MPO_here)\n",
    "end\n"
   ]
  },
  {
   "cell_type": "code",
   "execution_count": 34,
   "metadata": {},
   "outputs": [
    {
     "name": "stdout",
     "output_type": "stream",
     "text": [
      "  0.114850 seconds (60.79 k allocations: 46.713 MiB, 1.79% gc time)\n",
      "  0.216313 seconds (90.91 k allocations: 102.375 MiB, 3.82% gc time)\n",
      "  0.191073 seconds (91.50 k allocations: 103.646 MiB, 2.54% gc time)\n",
      "  0.167483 seconds (93.31 k allocations: 106.965 MiB, 2.91% gc time)\n",
      "  0.162116 seconds (93.44 k allocations: 107.156 MiB, 2.97% gc time)\n",
      "  0.167147 seconds (93.76 k allocations: 107.819 MiB, 4.06% gc time)\n",
      "  0.171561 seconds (94.02 k allocations: 108.315 MiB, 2.82% gc time)\n",
      "  0.161233 seconds (94.25 k allocations: 108.808 MiB, 3.01% gc time)\n",
      "  0.186441 seconds (94.34 k allocations: 108.954 MiB, 3.66% gc time)\n",
      "  0.192767 seconds (94.28 k allocations: 108.797 MiB, 2.53% gc time)\n",
      "  0.193727 seconds (94.28 k allocations: 108.797 MiB, 3.74% gc time)\n",
      "  0.178864 seconds (94.25 k allocations: 108.796 MiB, 2.74% gc time)\n",
      "  0.167287 seconds (94.25 k allocations: 108.796 MiB, 3.17% gc time)\n",
      "  0.197934 seconds (94.25 k allocations: 108.796 MiB, 3.90% gc time)\n",
      "  0.184125 seconds (94.25 k allocations: 108.796 MiB, 2.74% gc time)\n",
      "  0.179495 seconds (94.25 k allocations: 108.796 MiB, 2.83% gc time)\n",
      "  0.178915 seconds (94.25 k allocations: 108.796 MiB, 2.92% gc time)\n",
      "  0.181294 seconds (94.25 k allocations: 108.796 MiB, 5.26% gc time)\n",
      "  0.170490 seconds (94.21 k allocations: 108.796 MiB, 2.90% gc time)\n",
      "  0.169655 seconds (94.21 k allocations: 108.796 MiB, 2.96% gc time)\n",
      "coarse run completed\n",
      "variance is, 0.807144347898884 + 2.6299584523852687e-13im\n",
      "  1.342743 seconds (529.78 k allocations: 985.087 MiB, 2.77% gc time)\n",
      "  1.800417 seconds (815.01 k allocations: 1.504 GiB, 11.06% gc time)\n",
      "  1.651415 seconds (815.01 k allocations: 1.504 GiB, 3.74% gc time)\n",
      "  1.750218 seconds (815.01 k allocations: 1.504 GiB, 3.50% gc time)\n",
      "  1.838529 seconds (815.02 k allocations: 1.504 GiB, 11.15% gc time)\n",
      "  1.618699 seconds (815.02 k allocations: 1.504 GiB, 3.80% gc time)\n",
      "  1.944286 seconds (815.02 k allocations: 1.504 GiB, 16.95% gc time)\n",
      "  1.644121 seconds (815.02 k allocations: 1.504 GiB, 3.74% gc time)\n",
      "  1.868087 seconds (815.02 k allocations: 1.504 GiB, 17.57% gc time)\n",
      "  1.663237 seconds (815.01 k allocations: 1.504 GiB, 3.75% gc time)\n",
      "intermediate run completed\n",
      "variance is, 0.07173291164963302 + 5.787913154134482e-13im\n"
     ]
    }
   ],
   "source": [
    "# DMRG sweeps, with refinement \n",
    "\n",
    "nsweeps_m10 = 20\n",
    "nsweeps_m40 = 10\n",
    "nsweeps_m80 = 5\n",
    "\n",
    "for i in 1:nsweeps_m10\n",
    "    @time dmrg(psi, H_mpo, maxm = 10, cutoff = 1E-4)\n",
    "end\n",
    "println(\"coarse run completed\")\n",
    "variance = expect(psi,H_mpo,H_mpo)- (expect(psi, H_mpo))^2\n",
    "println(\"variance is, \",variance)\n",
    "\n",
    "for i in 1:nsweeps_m40\n",
    "    @time dmrg(psi, H_mpo, maxm = 40, cutoff = 1E-8)\n",
    "end\n",
    "println(\"intermediate run completed\")\n",
    "#for i in 1:nsweeps_m80\n",
    "#    @time dmrg(psi, H_mpo, maxm = 80, cutoff = 1E-15)\n",
    "#end\n",
    "#println(\"fine run completed\")\n",
    "variance = expect(psi,H_mpo,H_mpo)- (expect(psi, H_mpo))^2\n",
    "println(\"variance is, \",variance)"
   ]
  },
  {
   "cell_type": "code",
   "execution_count": 35,
   "metadata": {},
   "outputs": [
    {
     "data": {
      "text/plain": [
       "3×3 Array{Float64,2}:\n",
       "  40.988   19.1427   174.372 \n",
       "  19.1427   9.68336   91.3228\n",
       " 174.372   91.3228   887.171 "
      ]
     },
     "execution_count": 35,
     "metadata": {},
     "output_type": "execute_result"
    }
   ],
   "source": [
    "# evaluate Correlation matrix\n",
    "\n",
    "corMat = zeros(ComplexF64,nOps,nOps)\n",
    "\n",
    "op_expect = zeros(ComplexF64,nOps)\n",
    "\n",
    "for idx = 1:nOps\n",
    "    op_expect[idx] = expect(psi,MPO_op_vec[idx])\n",
    "end\n",
    "\n",
    "for idx1 = 1:nOps\n",
    "    for idx2 = 1:nOps\n",
    "        val_h = 0.5*expect(psi,MPO_op_vec[idx1],MPO_op_vec[idx2])\n",
    "        val_h += 0.5*expect(psi,MPO_op_vec[idx2],MPO_op_vec[idx1])\n",
    "        val_h += -(op_expect[idx1]*op_expect[idx2])\n",
    "        corMat[idx1,idx2] = val_h\n",
    "    end\n",
    "end\n",
    "broadcast(abs,corMat)"
   ]
  },
  {
   "cell_type": "code",
   "execution_count": 36,
   "metadata": {},
   "outputs": [
    {
     "data": {
      "text/plain": [
       "9.187072170939457e-13"
      ]
     },
     "execution_count": 36,
     "metadata": {},
     "output_type": "execute_result"
    }
   ],
   "source": [
    "# check the symmetry of M\n",
    "maximum(broadcast(abs,corMat - corMat'))"
   ]
  },
  {
   "cell_type": "code",
   "execution_count": 43,
   "metadata": {},
   "outputs": [
    {
     "data": {
      "text/plain": [
       "\"J_arr:\""
      ]
     },
     "metadata": {},
     "output_type": "display_data"
    },
    {
     "data": {
      "text/plain": [
       "3×1 Array{Float64,2}:\n",
       " 0.18961747332757337\n",
       " 1.0                \n",
       " 0.06561242631240016"
      ]
     },
     "metadata": {},
     "output_type": "display_data"
    },
    {
     "name": "stdout",
     "output_type": "stream",
     "text": [
      "eigenvalues = 6.46412 921.69503 \n",
      "min_eig = 6.464125E+00 \n",
      "operators = 1.00000 0.19799 \n"
     ]
    }
   ],
   "source": [
    "using LinearAlgebra\n",
    "using Printf\n",
    "\n",
    "#keep_idx = 1:nOps # all operators\n",
    "keep_idx = [1,3]#1:(nOps-1) # drop last operator\n",
    "corMat_reduced = corMat[keep_idx,keep_idx]\n",
    "\n",
    "vals,vecs = LinearAlgebra.eigen(corMat_reduced)\n",
    "min_val, tar_idx = findmin(broadcast(abs,vals))\n",
    "#min_val, tar_idx = findmin(broadcast(real,vals))\n",
    "\n",
    "\n",
    "op_estimate = broadcast(abs,vecs[:,tar_idx])/maximum(broadcast(abs,vecs[:,tar_idx]))\n",
    "\n",
    "display(\"J_arr:\")\n",
    "display(J_arr)\n",
    "\n",
    "@printf(\"eigenvalues = \")\n",
    "for val in vals\n",
    "    @printf(\"%.5f \",real(val))\n",
    "end\n",
    "@printf(\"\\n\")\n",
    "\n",
    "@printf(\"min_eig = %E \\n\",min_val)\n",
    "\n",
    "@printf(\"operators = \")\n",
    "for op in op_estimate\n",
    "    @printf(\"%.5f \",op)\n",
    "end\n",
    "@printf(\"\\n\")\n"
   ]
  },
  {
   "cell_type": "code",
   "execution_count": 38,
   "metadata": {},
   "outputs": [
    {
     "ename": "InterruptException",
     "evalue": "\u001b[91mInterruptException:\u001b[39m",
     "output_type": "error",
     "traceback": [
      "\u001b[91mInterruptException:\u001b[39m",
      "",
      "Stacktrace:",
      " [1] macro expansion at /home/stc/.julia/packages/RecipesPipeline/tkFmN/src/series.jl:156 [inlined]",
      " [2] apply_recipe(::AbstractDict{Symbol,Any}, ::Type{RecipesPipeline.SliceIt}, ::Any, ::Any, ::Any) at /home/stc/.julia/packages/RecipesBase/qpxEX/src/RecipesBase.jl:289",
      " [3] _process_userrecipes!(::Plots.Plot{Plots.GRBackend}, ::Dict{Symbol,Any}, ::Tuple{Array{Float64,1}}) at /home/stc/.julia/packages/RecipesPipeline/tkFmN/src/user_recipe.jl:35",
      " [4] recipe_pipeline!(::Plots.Plot{Plots.GRBackend}, ::Dict{Symbol,Any}, ::Tuple{Array{Float64,1}}) at /home/stc/.julia/packages/RecipesPipeline/tkFmN/src/RecipesPipeline.jl:69",
      " [5] _plot!(::Plots.Plot{Plots.GRBackend}, ::Dict{Symbol,Any}, ::Tuple{Array{Float64,1}}) at /home/stc/.julia/packages/Plots/uCh2y/src/plot.jl:167",
      " [6] #plot#131(::Base.Iterators.Pairs{Symbol,String,Tuple{Symbol},NamedTuple{(:label,),Tuple{String}}}, ::typeof(plot), ::Array{Float64,1}) at /home/stc/.julia/packages/Plots/uCh2y/src/plot.jl:57",
      " [7] (::RecipesBase.var\"#kw##plot\")(::NamedTuple{(:label,),Tuple{String}}, ::typeof(plot), ::Array{Float64,1}) at ./none:0",
      " [8] top-level scope at In[38]:24"
     ]
    }
   ],
   "source": [
    "# Evaluate and plot the site-dependent magnetization\n",
    "S_vals = zeros(ComplexF64,Ns,3)\n",
    "S_ops = [Sx, Sy, Sz]\n",
    "\n",
    "S0 = [Id O \n",
    "      O Id]\n",
    "S0_mpo = Array{Array{ComplexF64,2},1}(undef,Ns)\n",
    "\n",
    "for site = 1:Ns\n",
    "   S0_mpo[site] = S0\n",
    "end\n",
    "\n",
    "for site = 1:Ns\n",
    "    for op_idx = 1:3\n",
    "        Sop_here = copy(S0_mpo)\n",
    "        Sop_here[site] = [Id            O\n",
    "                          S_ops[op_idx] Id]\n",
    "        mpo_h = makeMPO(Sop_here,size(Id,1),Ns)\n",
    "        S_vals[site,op_idx] = expect(psi,mpo_h)\n",
    "    end\n",
    "end\n",
    "\n",
    "using Plots\n",
    "plot(broadcast(real,S_vals[:,1]),label=\"Sx\")\n",
    "plot!(broadcast(real,S_vals[:,2]),label=\"Sy\")\n",
    "plot!(broadcast(real,S_vals[:,3]),label=\"Sz\")"
   ]
  },
  {
   "cell_type": "code",
   "execution_count": 172,
   "metadata": {},
   "outputs": [
    {
     "data": {
      "text/plain": [
       "\"Op mid left:\""
      ]
     },
     "metadata": {},
     "output_type": "display_data"
    },
    {
     "data": {
      "text/plain": [
       "3×3 Array{Complex{Float64},2}:\n",
       " 1.0+0.0im  0.0+0.0im  0.0+0.0im\n",
       " 0.0+0.0im  0.0+0.0im  0.0+0.0im\n",
       " 0.0+0.0im  0.0+0.0im  1.0+0.0im"
      ]
     },
     "metadata": {},
     "output_type": "display_data"
    },
    {
     "data": {
      "text/plain": [
       "\"Op bot mid:\""
      ]
     },
     "metadata": {},
     "output_type": "display_data"
    },
    {
     "data": {
      "text/plain": [
       "3×3 Array{Complex{Float64},2}:\n",
       " 1.0+0.0im  0.0+0.0im  0.0+0.0im\n",
       " 0.0+0.0im  0.0+0.0im  0.0+0.0im\n",
       " 0.0+0.0im  0.0+0.0im  1.0+0.0im"
      ]
     },
     "metadata": {},
     "output_type": "display_data"
    },
    {
     "data": {
      "text/plain": [
       "\"Id top left:\""
      ]
     },
     "metadata": {},
     "output_type": "display_data"
    },
    {
     "data": {
      "text/plain": [
       "3×3 Array{Complex{Float64},2}:\n",
       " 1.0+0.0im  0.0+0.0im  0.0+0.0im\n",
       " 0.0+0.0im  1.0+0.0im  0.0+0.0im\n",
       " 0.0+0.0im  0.0+0.0im  1.0+0.0im"
      ]
     },
     "metadata": {},
     "output_type": "display_data"
    },
    {
     "data": {
      "text/plain": [
       "\"Id bot right:\""
      ]
     },
     "metadata": {},
     "output_type": "display_data"
    },
    {
     "data": {
      "text/plain": [
       "3×3 Array{Complex{Float64},2}:\n",
       " 1.0+0.0im  0.0+0.0im  0.0+0.0im\n",
       " 0.0+0.0im  1.0+0.0im  0.0+0.0im\n",
       " 0.0+0.0im  0.0+0.0im  1.0+0.0im"
      ]
     },
     "metadata": {},
     "output_type": "display_data"
    },
    {
     "data": {
      "text/plain": [
       "\"Zero bot left:\""
      ]
     },
     "metadata": {},
     "output_type": "display_data"
    },
    {
     "data": {
      "text/plain": [
       "3×3 Array{Complex{Float64},2}:\n",
       " 0.0+0.0im  0.0+0.0im  0.0+0.0im\n",
       " 0.0+0.0im  0.0+0.0im  0.0+0.0im\n",
       " 0.0+0.0im  0.0+0.0im  0.0+0.0im"
      ]
     },
     "metadata": {},
     "output_type": "display_data"
    },
    {
     "data": {
      "text/plain": [
       "\"rest:\""
      ]
     },
     "metadata": {},
     "output_type": "display_data"
    },
    {
     "data": {
      "text/plain": [
       "6×6 Array{Complex{Float64},2}:\n",
       " 0.0+0.0im  0.0+0.0im  0.0+0.0im  0.0+0.0im  0.0+0.0im  0.0+0.0im\n",
       " 0.0+0.0im  0.0+0.0im  0.0+0.0im  0.0+0.0im  0.0+0.0im  0.0+0.0im\n",
       " 0.0+0.0im  0.0+0.0im  0.0+0.0im  0.0+0.0im  0.0+0.0im  0.0+0.0im\n",
       " 0.0+0.0im  0.0+0.0im  0.0+0.0im  0.0+0.0im  0.0+0.0im  0.0+0.0im\n",
       " 0.0+0.0im  0.0+0.0im  0.0+0.0im  0.0+0.0im  0.0+0.0im  0.0+0.0im\n",
       " 0.0+0.0im  0.0+0.0im  0.0+0.0im  0.0+0.0im  0.0+0.0im  0.0+0.0im"
      ]
     },
     "metadata": {},
     "output_type": "display_data"
    }
   ],
   "source": [
    "tar_vec = H_op_vec[12]; # 12 corresponds to Sz^2\n",
    "\n",
    "display(\"Op mid left:\")\n",
    "display(tar_vec[4:6,1:3])\n",
    "\n",
    "display(\"Op bot mid:\")\n",
    "display(tar_vec[7:9,4:6])\n",
    "\n",
    "display(\"Id top left:\")\n",
    "display(tar_vec[1:3,1:3])\n",
    "\n",
    "display(\"Id bot right:\")\n",
    "display(tar_vec[7:9,7:9])\n",
    "\n",
    "display(\"Zero bot left:\")\n",
    "display(tar_vec[7:9,1:3])\n",
    "\n",
    "display(\"rest:\")\n",
    "display(tar_vec[1:6,4:9])\n",
    "\n"
   ]
  },
  {
   "cell_type": "code",
   "execution_count": 76,
   "metadata": {},
   "outputs": [
    {
     "data": {
      "text/plain": [
       "0.6068704789525406"
      ]
     },
     "metadata": {},
     "output_type": "display_data"
    },
    {
     "data": {
      "text/plain": [
       "1.0000000000000002"
      ]
     },
     "metadata": {},
     "output_type": "display_data"
    },
    {
     "data": {
      "text/plain": [
       "3×3 Array{Float64,2}:\n",
       " 0.5  0.0  0.5\n",
       " 0.0  1.0  0.0\n",
       " 0.5  0.0  0.5"
      ]
     },
     "metadata": {},
     "output_type": "display_data"
    },
    {
     "data": {
      "text/plain": [
       "3×3 Array{Complex{Float64},2}:\n",
       "      0.0+0.0im  0.707107+0.0im       0.0+0.0im\n",
       " 0.707107+0.0im       0.0+0.0im  0.707107+0.0im\n",
       "      0.0+0.0im  0.707107+0.0im       0.0+0.0im"
      ]
     },
     "metadata": {},
     "output_type": "display_data"
    },
    {
     "data": {
      "text/plain": [
       "3×3 Array{Float64,2}:\n",
       " 0.5  0.0  0.5\n",
       " 0.0  1.0  0.0\n",
       " 0.5  0.0  0.5"
      ]
     },
     "metadata": {},
     "output_type": "display_data"
    }
   ],
   "source": [
    "# check the term in the Hamiltonian (top left part is multiplied by respective J)\n",
    "tar_op = 4;\n",
    "guess_op = Sx*Sx;\n",
    "\n",
    "nH_rows = size(H_onesite)[1]\n",
    "lrs = nH_rows-nSpin+1; # Last Row Starting index\n",
    "s = (tar_op)*nSpin;\n",
    "\n",
    "guess_op_r = guess_op\n",
    "guess_op_l = guess_op\n",
    "op_actual_r = H_onesite[(1+s):(3+s),        1:3]\n",
    "op_actual_l = H_onesite[lrs:(lrs+2),(1+s):(3+s)]\n",
    "op_r_err = J_arr[1]*guess_op_r - op_actual_r\n",
    "op_l_err =          guess_op_l - op_actual_l\n",
    "display(maximum(broadcast(abs,op_r_err[:])))\n",
    "display(maximum(broadcast(abs,op_l_err[:])))\n",
    "display(guess_op_l)\n",
    "display(op_actual_l)\n"
   ]
  }
 ],
 "metadata": {
  "kernelspec": {
   "display_name": "Julia 1.3.1",
   "language": "julia",
   "name": "julia-1.3"
  },
  "language_info": {
   "file_extension": ".jl",
   "mimetype": "application/julia",
   "name": "julia",
   "version": "1.3.1"
  }
 },
 "nbformat": 4,
 "nbformat_minor": 4
}
