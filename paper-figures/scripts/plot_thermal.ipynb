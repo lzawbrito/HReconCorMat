{
 "cells": [
  {
   "cell_type": "code",
   "execution_count": 1,
   "metadata": {},
   "outputs": [],
   "source": [
    "import matplotlib.pyplot as plt\n",
    "from matplotlib import cm\n",
    "import matplotlib as mpl\n",
    "import numpy as np\n",
    "from numpy.linalg import norm\n",
    "from cmaps import *\n",
    "from spin_ring_api import * "
   ]
  },
  {
   "cell_type": "code",
   "execution_count": null,
   "metadata": {},
   "outputs": [],
   "source": [
    "r_label = '$r_\\mathrm{trunc}$'"
   ]
  },
  {
   "attachments": {},
   "cell_type": "markdown",
   "metadata": {},
   "source": [
    "betas = [1000, 100, 50, 10]\n",
    "truncs = np.arange(9)\n",
    "truncs"
   ]
  },
  {
   "cell_type": "code",
   "execution_count": 2,
   "metadata": {},
   "outputs": [
    {
     "name": "stdout",
     "output_type": "stream",
     "text": [
      "[0.5 1.  1.5 2.  2.5 3.  3.5 4.  4.5]\n",
      "[2 3 4 5 6 7 8]\n"
     ]
    }
   ],
   "source": [
    "l = 18\n",
    "delta = 2\n",
    "\n",
    "betas = np.arange(0.5, 5.0, 0.5)\n",
    "print(betas)\n",
    "\n",
    "truncs = np.arange(2, int(l / 2))\n",
    "\n",
    "print(truncs)\n",
    "\n",
    "lowest_evals_beta = []\n",
    "for beta in betas: \n",
    "    lowest_evals = []\n",
    "    for trunc in truncs: \n",
    "        try:\n",
    "            evals, evecs = get_eigen(True, l, delta, beta, trunc)\n",
    "            lowest_evals.append(evals[0])\n",
    "        except Exception as err:\n",
    "            print(f'Error processing beta={beta}, trunc={trunc}')\n",
    "            print(Exception, err)\n",
    "            \n",
    "    lowest_evals_beta.append(lowest_evals)\n",
    "\n",
    "zero_temp_evals = []\n",
    "for trunc in truncs:\n",
    "\tevals, evecs = get_eigen(False, l, delta, beta, trunc)\n",
    "\tzero_temp_evals.append(evals[0])"
   ]
  },
  {
   "cell_type": "code",
   "execution_count": 3,
   "metadata": {},
   "outputs": [
    {
     "data": {
      "image/png": "[encoded data removed]",
      "text/plain": [
       "<Figure size 400x450 with 2 Axes>"
      ]
     },
     "metadata": {},
     "output_type": "display_data"
    }
   ],
   "source": [
    "fig, ax = plt.subplots(figsize=(4, 4.5), nrows=2)"
   ]
  },
  {
   "cell_type": "code",
   "execution_count": 4,
   "metadata": {},
   "outputs": [],
   "source": [
    "# cmap = mpl.colormaps['plasma'].reversed()\n",
    "cmap_thermal = get_continuous_cmap([\n",
    "    '#4838a8', \n",
    "    '#cb4679', \n",
    "    '#f2ec5e',\n",
    "    ]).reversed()\n",
    "\n",
    "norm_thermal = mpl.colors.Normalize(vmax=betas[-1], vmin=betas[0])"
   ]
  },
  {
   "cell_type": "code",
   "execution_count": 5,
   "metadata": {},
   "outputs": [
    {
     "data": {
      "text/plain": [
       "<matplotlib.collections.PathCollection at 0x12681b310>"
      ]
     },
     "execution_count": 5,
     "metadata": {},
     "output_type": "execute_result"
    }
   ],
   "source": [
    "r = np.linspace(truncs[0], truncs[-1], 100)\n",
    "\n",
    "ax[0].plot(r, 2.5 * zero_temp_evals[-1] / np.power(r, 2 * delta), color='grey', \n",
    "        \tlinestyle='dashed', alpha=0.85)\n",
    "\n",
    "for b, ev in zip(np.flip(betas), np.flip(lowest_evals_beta, axis=0)):\n",
    "    ax[0].scatter(np.flip(truncs), ev,\n",
    "               color=cmap_thermal(norm_thermal(b)), alpha=0.8)\n",
    "\n",
    "# NOTE: should say \\beta = \\infty? maybe instead say \"pure state\" \n",
    "ax[0].scatter(np.flip(truncs), zero_temp_evals, label=f'$\\\\beta = \\\\infty$', \n",
    "           color='black', alpha=0.4)\n"
   ]
  },
  {
   "cell_type": "code",
   "execution_count": 6,
   "metadata": {},
   "outputs": [
    {
     "data": {
      "text/plain": [
       "Text(4.444444444444448, 0.5, '$ \\\\lambda_0 $')"
      ]
     },
     "execution_count": 6,
     "metadata": {},
     "output_type": "execute_result"
    }
   ],
   "source": [
    "ax[0].set_xticks(truncs)\n",
    "ax[0].set_xlabel(r_label)\n",
    "ax[0].set_ylabel('$ \\lambda_0 $')"
   ]
  },
  {
   "cell_type": "code",
   "execution_count": 7,
   "metadata": {},
   "outputs": [
    {
     "data": {
      "text/plain": [
       "Text(0.04, 0.175, '(a)')"
      ]
     },
     "execution_count": 7,
     "metadata": {},
     "output_type": "execute_result"
    }
   ],
   "source": [
    "\n",
    "cbar = fig.colorbar(cm.ScalarMappable(norm=norm_thermal, cmap=cmap_thermal), location='right', \n",
    "                    ticks=betas, ax=ax[0])\n",
    "cbar.set_label('$\\\\beta\\\\Delta E$')\n",
    "cbar.ax.tick_params(size=2)\n",
    "\n",
    "ax[0].text(0.04, 0.175, '(a)', transform=ax[0].transAxes,\n",
    "\t\tfontsize=14, va='top')"
   ]
  },
  {
   "cell_type": "code",
   "execution_count": 8,
   "metadata": {},
   "outputs": [
    {
     "data": {
      "text/plain": [
       "<matplotlib.legend.Legend at 0x12681a980>"
      ]
     },
     "execution_count": 8,
     "metadata": {},
     "output_type": "execute_result"
    }
   ],
   "source": [
    "import matplotlib.ticker as mticker \n",
    "\n",
    "ax[0].set_xscale('log')\n",
    "ax[0].set_yscale('log')\n",
    "ax[0].set_xticks(truncs)\n",
    "\n",
    "# Do not use scientific notation for x axis\n",
    "ax[0].xaxis.set_major_formatter(mticker.ScalarFormatter())\n",
    "\n",
    "ax[0].legend(frameon=False, loc=(0.1, 0.045))"
   ]
  },
  {
   "cell_type": "code",
   "execution_count": 9,
   "metadata": {},
   "outputs": [
    {
     "data": {
      "text/plain": [
       "Text(0.04, 0.175, '(b)')"
      ]
     },
     "execution_count": 9,
     "metadata": {},
     "output_type": "execute_result"
    }
   ],
   "source": [
    "spec = get_spectrum(l, delta, betas[0])\n",
    "gap = spec[1] - spec[0]\n",
    "\n",
    "beta_cont = np.linspace(betas[0], betas[-1], 100)\n",
    "boltz_function = 4.5 * np.exp(- gap * beta_cont) \n",
    "boltz = get_boltzmann(l, delta, betas[-1])\n",
    "\n",
    "\n",
    "ax[1].plot(beta_cont, boltz_function, color='grey', linestyle='dashed', alpha=0.85, \n",
    "\t   \t\tlabel='$e^{-\\\\beta\\Delta E}$')\n",
    "\n",
    "cmap = get_continuous_cmap([\n",
    "\t'#632a70',\n",
    "\t'#534699', \n",
    "\t'#3b739c',\n",
    "\t'#21908d',\n",
    "\t'#35b779',\n",
    "\t'#94cf55',\n",
    "\t'#eddd47'\n",
    "\t]).reversed().resampled(len(truncs))\n",
    "# cmap = mpl.colormaps['viridis'].reversed().resampled(len(truncs))\n",
    "\n",
    "norm = mpl.colors.Normalize(vmax=truncs[-1], vmin=truncs[0])\n",
    "\n",
    "i = 0\n",
    "for n_ops in np.flip(truncs):\n",
    "\tax[1].scatter(betas, np.transpose(lowest_evals_beta)[i] - zero_temp_evals[i],\n",
    "\t    # label=f'$\\\\text{{Truncs.}} = {t}$', \n",
    "\t\talpha=0.8,\n",
    "\t\tcolor=cmap(norm(n_ops)))\n",
    "\ti += 1\n",
    "\n",
    "ax[1].legend()\n",
    "# ax.set_xscale('log')\n",
    "ax[1].set_yscale('log')\n",
    "ax[1].set_xlabel('$\\\\beta\\\\Delta E$')\n",
    "ax[1].legend(frameon=False, loc='upper right')\n",
    "ax[1].set_ylabel('$\\lambda_{0, \\\\beta} - \\lambda_{0, \\\\beta = \\infty}$')\n",
    "\n",
    "# ax[1].set_ylim(1.7e-5, 1e2)\n",
    "\n",
    "\n",
    "ax[1].text(0.04, 0.175, '(b)', transform=ax[1].transAxes,\n",
    "\t\tfontsize=14, va='top')\n"
   ]
  },
  {
   "cell_type": "code",
   "execution_count": 10,
   "metadata": {},
   "outputs": [],
   "source": [
    "cbar = fig.colorbar( cm.ScalarMappable(norm=norm, cmap=cmap), location='right', \n",
    "\t\t    ticks=np.arange(2, 9), ax=ax[1])\n",
    "cbar.set_label(r_label)\n",
    "cbar.ax.tick_params(size=0)\n"
   ]
  },
  {
   "cell_type": "code",
   "execution_count": 11,
   "metadata": {},
   "outputs": [
    {
     "data": {
      "image/png": "[encoded data removed]",
      "text/plain": [
       "<Figure size 400x450 with 4 Axes>"
      ]
     },
     "execution_count": 11,
     "metadata": {},
     "output_type": "execute_result"
    }
   ],
   "source": [
    "fig.tight_layout()\n",
    "fig"
   ]
  },
  {
   "cell_type": "code",
   "execution_count": 12,
   "metadata": {},
   "outputs": [
    {
     "data": {
      "text/plain": [
       "array([400., 450.])"
      ]
     },
     "execution_count": 12,
     "metadata": {},
     "output_type": "execute_result"
    }
   ],
   "source": [
    "fig.savefig('../drafts/thermal_plot_v0.pdf')\n",
    "fig.savefig('../drafts/thermal_plot_v0.png')\n",
    "fig.get_size_inches() * fig.dpi"
   ]
  },
  {
   "attachments": {},
   "cell_type": "markdown",
   "metadata": {},
   "source": []
  }
 ],
 "metadata": {
  "kernelspec": {
   "display_name": "misc-phys",
   "language": "python",
   "name": "python3"
  },
  "language_info": {
   "codemirror_mode": {
    "name": "ipython",
    "version": 3
   },
   "file_extension": ".py",
   "mimetype": "text/x-python",
   "name": "python",
   "nbconvert_exporter": "python",
   "pygments_lexer": "ipython3",
   "version": "3.10.5"
  },
  "orig_nbformat": 4
 },
 "nbformat": 4,
 "nbformat_minor": 2
}
