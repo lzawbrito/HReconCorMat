{
 "cells": [
  {
   "cell_type": "code",
   "execution_count": 1,
   "metadata": {},
   "outputs": [],
   "source": [
    "using DMRJtensor\n",
    "include(\"su2_tools.jl\");\n"
   ]
  },
  {
   "cell_type": "code",
   "execution_count": 2,
   "metadata": {},
   "outputs": [
    {
     "name": "stdout",
     "output_type": "stream",
     "text": [
      "printing regular tensor of type: tens{Complex{Float64}}\n",
      "size = (1, 3, 1)\n",
      "T = Complex{Float64}[0.386326944668528 + 0.4753993290566001im, 0.8429447861943558 + 0.35147084766429204im, 0.9387790138541219 + 0.9679956102077518im]\n",
      "\n"
     ]
    }
   ],
   "source": [
    "# setup system spin and J\n",
    "spinmag = 1.0;\n",
    "Sx,Sy,Sz,Sp,Sm,O,Id = spinOps(spinmag)\n",
    "Ns = 20 # number of sites\n",
    "\n",
    "J_tensors = []\n",
    "push!(J_tensors,[1.0, 1.0, 3.0])\n",
    "push!(J_tensors,[ [2.0, 0.0, 1.0], [0.0, 2.0, 0.0], [0.0, 0.0, 2.0] ])\n",
    "H_onesite, H_op_vec = H_SU2_Jtensor(spinmag, J_tensors) # make the onsite term\n",
    "\n",
    "H_mpo = makeMPO(H_onesite,size(Id,1),Ns); # make the MPO!\n",
    "psi0 = makePsi0(spinmag,Ns);\n",
    "psi = copy(psi0)\n",
    "println(psi[1])"
   ]
  },
  {
   "cell_type": "code",
   "execution_count": 3,
   "metadata": {},
   "outputs": [],
   "source": [
    "nOps = length(H_op_vec)\n",
    "MPO_op_vec = []\n",
    "for idx = 1:nOps\n",
    "    MPO_here = makeMPO(H_op_vec[idx],size(Id,1),Ns);\n",
    "    push!(MPO_op_vec, MPO_here)\n",
    "end\n"
   ]
  },
  {
   "cell_type": "code",
   "execution_count": 4,
   "metadata": {},
   "outputs": [
    {
     "name": "stdout",
     "output_type": "stream",
     "text": [
      " 15.096006 seconds (45.25 M allocations: 2.259 GiB, 7.87% gc time)\n",
      "  0.153540 seconds (81.64 k allocations: 115.924 MiB, 11.23% gc time)\n",
      "  0.167758 seconds (81.64 k allocations: 115.924 MiB, 4.52% gc time)\n",
      "  0.145440 seconds (81.33 k allocations: 115.566 MiB, 4.57% gc time)\n",
      "  0.156372 seconds (80.80 k allocations: 115.212 MiB, 4.59% gc time)\n",
      "  0.161656 seconds (80.54 k allocations: 115.208 MiB, 4.87% gc time)\n",
      "  0.140069 seconds (80.48 k allocations: 115.207 MiB, 4.56% gc time)\n",
      "  0.164375 seconds (80.48 k allocations: 115.207 MiB, 4.80% gc time)\n",
      "  0.163249 seconds (80.48 k allocations: 115.207 MiB, 4.74% gc time)\n",
      "  0.159452 seconds (80.48 k allocations: 115.207 MiB, 4.16% gc time)\n",
      "  0.159918 seconds (80.48 k allocations: 115.207 MiB, 4.54% gc time)\n",
      "  0.159176 seconds (80.48 k allocations: 115.207 MiB, 4.90% gc time)\n",
      "  0.161908 seconds (80.48 k allocations: 115.207 MiB, 4.74% gc time)\n",
      "  0.154983 seconds (80.48 k allocations: 115.207 MiB, 6.14% gc time)\n",
      "  0.169018 seconds (80.48 k allocations: 115.207 MiB, 5.18% gc time)\n",
      "  0.165190 seconds (80.48 k allocations: 115.207 MiB, 7.21% gc time)\n",
      "  0.170488 seconds (80.48 k allocations: 115.207 MiB, 3.72% gc time)\n",
      "  0.157580 seconds (80.48 k allocations: 115.207 MiB, 4.28% gc time)\n",
      "  0.160661 seconds (80.48 k allocations: 115.207 MiB, 4.14% gc time)\n",
      "  0.142682 seconds (80.48 k allocations: 115.207 MiB, 4.60% gc time)\n",
      "coarse run completed\n",
      "variance is, 0.013528551776028408 + 9.660501922000869e-16im\n",
      "  0.923676 seconds (303.93 k allocations: 755.240 MiB, 26.33% gc time)\n",
      "  1.026816 seconds (400.02 k allocations: 1017.682 MiB, 13.93% gc time)\n",
      "  0.912522 seconds (391.79 k allocations: 994.172 MiB, 4.30% gc time)\n",
      "  1.650557 seconds (391.79 k allocations: 994.172 MiB, 19.29% gc time)\n",
      "  1.310485 seconds (391.79 k allocations: 994.172 MiB, 4.56% gc time)\n",
      "  1.155772 seconds (391.79 k allocations: 994.172 MiB, 5.02% gc time)\n",
      "  1.335897 seconds (391.79 k allocations: 994.172 MiB, 24.20% gc time)\n",
      "  1.011537 seconds (391.79 k allocations: 994.172 MiB, 6.21% gc time)\n",
      "  1.046707 seconds (391.79 k allocations: 994.172 MiB, 5.84% gc time)\n",
      "  1.080853 seconds (391.79 k allocations: 994.172 MiB, 5.72% gc time)\n",
      "intermediate run completed\n",
      " 11.014564 seconds (2.70 M allocations: 7.477 GiB, 12.65% gc time)\n",
      " 17.528533 seconds (4.19 M allocations: 11.528 GiB, 8.03% gc time)\n",
      " 18.892383 seconds (4.19 M allocations: 11.524 GiB, 6.49% gc time)\n",
      " 18.231236 seconds (4.19 M allocations: 11.525 GiB, 10.77% gc time)\n",
      " 17.725409 seconds (4.19 M allocations: 11.525 GiB, 8.68% gc time)\n",
      "fine run completed\n",
      "variance is, 5.892886179026391e-11 + 7.508337649275272e-15im\n"
     ]
    }
   ],
   "source": [
    "# DMRG sweeps, with refinement \n",
    "\n",
    "nsweeps_m10 = 20\n",
    "nsweeps_m40 = 10\n",
    "nsweeps_m80 = 5\n",
    "\n",
    "for i in 1:nsweeps_m10\n",
    "    @time dmrg(psi, H_mpo, maxm = 10, cutoff = 1E-4)\n",
    "end\n",
    "println(\"coarse run completed\")\n",
    "variance = expect(psi,H_mpo,H_mpo)- (expect(psi, H_mpo))^2\n",
    "println(\"variance is, \",variance)\n",
    "\n",
    "for i in 1:nsweeps_m40\n",
    "    @time dmrg(psi, H_mpo, maxm = 40, cutoff = 1E-8)\n",
    "end\n",
    "println(\"intermediate run completed\")\n",
    "for i in 1:nsweeps_m80\n",
    "    @time dmrg(psi, H_mpo, maxm = 120, cutoff = 1E-15)\n",
    "end\n",
    "println(\"fine run completed\")\n",
    "variance = expect(psi,H_mpo,H_mpo)- (expect(psi, H_mpo))^2\n",
    "println(\"variance is, \",variance)"
   ]
  },
  {
   "cell_type": "code",
   "execution_count": 5,
   "metadata": {},
   "outputs": [
    {
     "data": {
      "text/plain": [
       "12×12 Array{Complex{Float64},2}:\n",
       "   4.53733+0.0im    3.76754+0.0im  …  -0.830105+0.0im     2.70075+0.0im\n",
       "   3.76754+0.0im    4.62941+0.0im     -0.818369+0.0im     2.77086+0.0im\n",
       "  -2.30666+0.0im   -2.33806+0.0im      0.403641+0.0im    -1.83638+0.0im\n",
       "  -2.27628+0.0im   -0.68096+0.0im      0.467051+0.0im   -0.782667+0.0im\n",
       " -0.361941+0.0im  -0.379114+0.0im     0.0847236+0.0im  -0.0569971+0.0im\n",
       " -0.792896+0.0im  -0.814441+0.0im  …   0.180982+0.0im    -0.46774+0.0im\n",
       " -0.361941+0.0im  -0.379114+0.0im     0.0847236+0.0im  -0.0569971+0.0im\n",
       " -0.720459+0.0im   -2.37407+0.0im      0.158216+0.0im   -0.850476+0.0im\n",
       " -0.830105+0.0im  -0.818369+0.0im      0.241332+0.0im   -0.496982+0.0im\n",
       " -0.792896+0.0im  -0.814441+0.0im      0.180982+0.0im    -0.46774+0.0im\n",
       " -0.830105+0.0im  -0.818369+0.0im  …   0.241332+0.0im   -0.496982+0.0im\n",
       "   2.70075+0.0im    2.77086+0.0im     -0.496982+0.0im     1.88578+0.0im"
      ]
     },
     "metadata": {},
     "output_type": "display_data"
    }
   ],
   "source": [
    "# evaluate Correlation matrix\n",
    "\n",
    "corMat = zeros(ComplexF64,nOps,nOps)\n",
    "\n",
    "op_expect = zeros(ComplexF64,nOps)\n",
    "\n",
    "for idx = 1:nOps\n",
    "    op_expect[idx] = expect(psi,MPO_op_vec[idx])\n",
    "end\n",
    "\n",
    "for idx1 = 1:nOps\n",
    "    for idx2 = 1:idx1\n",
    "        val_h = 0.5*expect(psi,MPO_op_vec[idx1],MPO_op_vec[idx2])\n",
    "        val_h += 0.5*expect(psi,MPO_op_vec[idx2],MPO_op_vec[idx1])\n",
    "        val_h += -(op_expect[idx1]*op_expect[idx2])\n",
    "        corMat[idx1,idx2] = real(val_h)\n",
    "        corMat[idx2,idx1] = real(val_h)\n",
    "    end\n",
    "end\n",
    "display(corMat)\n",
    "#display(findmax(broadcast(abs,broadcast(imag,corMat)))[1])"
   ]
  },
  {
   "cell_type": "code",
   "execution_count": 117,
   "metadata": {},
   "outputs": [
    {
     "name": "stdout",
     "output_type": "stream",
     "text": [
      "4.71\t3.55\t-2.61\t-2.59\t0.24\t-1.65\t0.24\t-0.82\t-1.98\t-1.65\t-1.98\t3.03\n",
      "3.55\t4.43\t-2.37\t-0.73\t0.17\t-1.86\t0.17\t-2.53\t-1.65\t-1.86\t-1.65\t2.92\n",
      "-2.61\t-2.37\t3.88\t-0.21\t-2.18\t0.98\t-2.18\t-0.63\t1.09\t0.98\t1.09\t-2.2\n",
      "-2.59\t-0.73\t-0.21\t5.07\t1.13\t0.34\t1.13\t-1.79\t1.17\t0.34\t1.17\t-0.99\n",
      "0.24\t0.17\t-2.18\t1.13\t-2.17\t-0.56\t6.01\t1.23\t0.43\t0.48\t-0.58\t0.48\n",
      "-1.65\t-1.86\t0.98\t0.34\t-0.56\t-0.15\t0.48\t1.14\t-0.14\t1.92\t1.68\t-1.25\n",
      "0.24\t0.17\t-2.18\t1.13\t6.01\t0.48\t-2.17\t1.23\t-0.58\t-0.56\t0.43\t0.48\n",
      "-0.82\t-2.53\t-0.63\t-1.79\t1.23\t1.14\t1.23\t4.84\t0.38\t1.14\t0.38\t-1.01\n",
      "-1.98\t-1.65\t1.09\t1.17\t0.43\t-0.14\t-0.58\t0.38\t-0.16\t1.68\t2.05\t-1.3\n",
      "-1.65\t-1.86\t0.98\t0.34\t0.48\t1.92\t-0.56\t1.14\t1.68\t-0.15\t-0.14\t-1.25\n",
      "-1.98\t-1.65\t1.09\t1.17\t-0.58\t1.68\t0.43\t0.38\t2.05\t-0.14\t-0.16\t-1.3\n",
      "3.03\t2.92\t-2.2\t-0.99\t0.48\t-1.25\t0.48\t-1.01\t-1.3\t-1.25\t-1.3\t2.27\n"
     ]
    }
   ],
   "source": [
    "writedlm(stdout, broadcast(x -> round(x,digits=2),(broadcast(real,corMat))) )"
   ]
  },
  {
   "cell_type": "code",
   "execution_count": 19,
   "metadata": {},
   "outputs": [
    {
     "data": {
      "text/plain": [
       "tens{Complex{Float64}}((2, 2), Complex{Float64}[0.5 + 0.0im, 0.0 + 0.0im, 0.0 + 0.0im, -0.5 + 0.0im])"
      ]
     },
     "execution_count": 19,
     "metadata": {},
     "output_type": "execute_result"
    }
   ],
   "source": [
    "maximum(broadcast(abs,corMat - corMat'))\n",
    "MPO_op_vec[3][2][3,:,:,2]"
   ]
  },
  {
   "cell_type": "code",
   "execution_count": 9,
   "metadata": {},
   "outputs": [
    {
     "name": "stdout",
     "output_type": "stream",
     "text": [
      "eigenvalues = -0.00000000 0.00000000 0.00000000 0.00000000 0.00688283 0.06936512 0.14034869 0.28067027 0.43104381 5.98135186 7.27185333 13.24225716 \n",
      "min_eig = 5.427318E-17 \n",
      "operators = 0.000 0.000 0.000 0.000 -1.000 -0.193 1.000 0.000 0.003 0.193 -0.003 0.000 \n"
     ]
    }
   ],
   "source": [
    "using LinearAlgebra\n",
    "using Printf\n",
    "\n",
    "#keep_idx = [1,2,3,4,8,12] # S_i and (S_ii)^2 operators only\n",
    "keep_idx = 1:12 # all operators\n",
    "corMat_reduced = corMat[keep_idx,keep_idx]\n",
    "corMat_reduced = corMat;\n",
    "\n",
    "vals,vecs = LinearAlgebra.eigen(corMat_reduced)\n",
    "min_val, tar_idx = findmin(broadcast(abs,vals))\n",
    "#min_val, tar_idx = findmin(broadcast(real,vals))\n",
    "\n",
    "op_estimate = broadcast(real,vecs[:,tar_idx])/maximum(broadcast(abs,vecs[:,tar_idx]))\n",
    "\n",
    "@printf(\"eigenvalues = \")\n",
    "for val in vals\n",
    "    @printf(\"%.8f \",real(val))\n",
    "end\n",
    "@printf(\"\\n\")\n",
    "\n",
    "@printf(\"min_eig = %E \\n\",min_val)\n",
    "\n",
    "@printf(\"operators = \")\n",
    "for op in op_estimate\n",
    "    @printf(\"%.3f \",op)\n",
    "end\n",
    "@printf(\"\\n\")\n",
    "\n",
    "#J_tensors[1]\n"
   ]
  },
  {
   "cell_type": "code",
   "execution_count": 14,
   "metadata": {},
   "outputs": [
    {
     "data": {
      "image/svg+xml": [
       "<?xml version=\"1.0\" encoding=\"utf-8\"?>\n",
       "<svg xmlns=\"http://www.w3.org/2000/svg\" xmlns:xlink=\"http://www.w3.org/1999/xlink\" width=\"600\" height=\"400\" viewBox=\"0 0 2400 1600\">\n",
       "<defs>\n",
       "  <clipPath id=\"clip240\">\n",
       "    <rect x=\"0\" y=\"0\" width=\"2400\" height=\"1600\"/>\n",
       "  </clipPath>\n",
       "</defs>\n",
       "<path clip-path=\"url(#clip240)\" d=\"\n",
       "M0 1600 L2400 1600 L2400 0 L0 0  Z\n",
       "  \" fill=\"#ffffff\" fill-rule=\"evenodd\" fill-opacity=\"1\"/>\n",
       "<defs>\n",
       "  <clipPath id=\"clip241\">\n",
       "    <rect x=\"480\" y=\"0\" width=\"1681\" height=\"1600\"/>\n",
       "  </clipPath>\n",
       "</defs>\n",
       "<path clip-path=\"url(#clip240)\" d=\"\n",
       "M181.135 1486.45 L2352.76 1486.45 L2352.76 47.2441 L181.135 47.2441  Z\n",
       "  \" fill=\"#ffffff\" fill-rule=\"evenodd\" fill-opacity=\"1\"/>\n",
       "<defs>\n",
       "  <clipPath id=\"clip242\">\n",
       "    <rect x=\"181\" y=\"47\" width=\"2173\" height=\"1440\"/>\n",
       "  </clipPath>\n",
       "</defs>\n",
       "<polyline clip-path=\"url(#clip242)\" style=\"stroke:#000000; stroke-width:2; stroke-opacity:0.1; fill:none\" points=\"\n",
       "  673.901,1486.45 673.901,47.2441 \n",
       "  \"/>\n",
       "<polyline clip-path=\"url(#clip242)\" style=\"stroke:#000000; stroke-width:2; stroke-opacity:0.1; fill:none\" points=\"\n",
       "  1213.03,1486.45 1213.03,47.2441 \n",
       "  \"/>\n",
       "<polyline clip-path=\"url(#clip242)\" style=\"stroke:#000000; stroke-width:2; stroke-opacity:0.1; fill:none\" points=\"\n",
       "  1752.16,1486.45 1752.16,47.2441 \n",
       "  \"/>\n",
       "<polyline clip-path=\"url(#clip242)\" style=\"stroke:#000000; stroke-width:2; stroke-opacity:0.1; fill:none\" points=\"\n",
       "  2291.29,1486.45 2291.29,47.2441 \n",
       "  \"/>\n",
       "<polyline clip-path=\"url(#clip240)\" style=\"stroke:#000000; stroke-width:4; stroke-opacity:1; fill:none\" points=\"\n",
       "  181.135,1486.45 2352.76,1486.45 \n",
       "  \"/>\n",
       "<polyline clip-path=\"url(#clip240)\" style=\"stroke:#000000; stroke-width:4; stroke-opacity:1; fill:none\" points=\"\n",
       "  673.901,1486.45 673.901,1469.18 \n",
       "  \"/>\n",
       "<polyline clip-path=\"url(#clip240)\" style=\"stroke:#000000; stroke-width:4; stroke-opacity:1; fill:none\" points=\"\n",
       "  1213.03,1486.45 1213.03,1469.18 \n",
       "  \"/>\n",
       "<polyline clip-path=\"url(#clip240)\" style=\"stroke:#000000; stroke-width:4; stroke-opacity:1; fill:none\" points=\"\n",
       "  1752.16,1486.45 1752.16,1469.18 \n",
       "  \"/>\n",
       "<polyline clip-path=\"url(#clip240)\" style=\"stroke:#000000; stroke-width:4; stroke-opacity:1; fill:none\" points=\"\n",
       "  2291.29,1486.45 2291.29,1469.18 \n",
       "  \"/>\n",
       "<path clip-path=\"url(#clip240)\" d=\"M 0 0 M664.179 1512.56 L682.535 1512.56 L682.535 1516.5 L668.461 1516.5 L668.461 1524.97 Q669.48 1524.62 670.498 1524.46 Q671.517 1524.27 672.535 1524.27 Q678.322 1524.27 681.702 1527.44 Q685.082 1530.62 685.082 1536.03 Q685.082 1541.61 681.609 1544.71 Q678.137 1547.79 671.818 1547.79 Q669.642 1547.79 667.373 1547.42 Q665.128 1547.05 662.721 1546.31 L662.721 1541.61 Q664.804 1542.74 667.026 1543.3 Q669.248 1543.86 671.725 1543.86 Q675.73 1543.86 678.068 1541.75 Q680.406 1539.64 680.406 1536.03 Q680.406 1532.42 678.068 1530.31 Q675.73 1528.21 671.725 1528.21 Q669.85 1528.21 667.975 1528.62 Q666.123 1529.04 664.179 1529.92 L664.179 1512.56 Z\" fill=\"#000000\" fill-rule=\"evenodd\" fill-opacity=\"1\" /><path clip-path=\"url(#clip240)\" d=\"M 0 0 M1189.91 1543.18 L1197.55 1543.18 L1197.55 1516.82 L1189.24 1518.49 L1189.24 1514.23 L1197.5 1512.56 L1202.18 1512.56 L1202.18 1543.18 L1209.81 1543.18 L1209.81 1547.12 L1189.91 1547.12 L1189.91 1543.18 Z\" fill=\"#000000\" fill-rule=\"evenodd\" fill-opacity=\"1\" /><path clip-path=\"url(#clip240)\" d=\"M 0 0 M1224.88 1515.64 Q1221.27 1515.64 1219.44 1519.2 Q1217.64 1522.75 1217.64 1529.87 Q1217.64 1536.98 1219.44 1540.55 Q1221.27 1544.09 1224.88 1544.09 Q1228.52 1544.09 1230.32 1540.55 Q1232.15 1536.98 1232.15 1529.87 Q1232.15 1522.75 1230.32 1519.2 Q1228.52 1515.64 1224.88 1515.64 M1224.88 1511.93 Q1230.69 1511.93 1233.75 1516.54 Q1236.83 1521.12 1236.83 1529.87 Q1236.83 1538.6 1233.75 1543.21 Q1230.69 1547.79 1224.88 1547.79 Q1219.07 1547.79 1216 1543.21 Q1212.94 1538.6 1212.94 1529.87 Q1212.94 1521.12 1216 1516.54 Q1219.07 1511.93 1224.88 1511.93 Z\" fill=\"#000000\" fill-rule=\"evenodd\" fill-opacity=\"1\" /><path clip-path=\"url(#clip240)\" d=\"M 0 0 M1729.54 1543.18 L1737.18 1543.18 L1737.18 1516.82 L1728.87 1518.49 L1728.87 1514.23 L1737.13 1512.56 L1741.8 1512.56 L1741.8 1543.18 L1749.44 1543.18 L1749.44 1547.12 L1729.54 1547.12 L1729.54 1543.18 Z\" fill=\"#000000\" fill-rule=\"evenodd\" fill-opacity=\"1\" /><path clip-path=\"url(#clip240)\" d=\"M 0 0 M1754.56 1512.56 L1772.92 1512.56 L1772.92 1516.5 L1758.84 1516.5 L1758.84 1524.97 Q1759.86 1524.62 1760.88 1524.46 Q1761.9 1524.27 1762.92 1524.27 Q1768.7 1524.27 1772.08 1527.44 Q1775.46 1530.62 1775.46 1536.03 Q1775.46 1541.61 1771.99 1544.71 Q1768.52 1547.79 1762.2 1547.79 Q1760.02 1547.79 1757.75 1547.42 Q1755.51 1547.05 1753.1 1546.31 L1753.1 1541.61 Q1755.18 1542.74 1757.41 1543.3 Q1759.63 1543.86 1762.11 1543.86 Q1766.11 1543.86 1768.45 1541.75 Q1770.79 1539.64 1770.79 1536.03 Q1770.79 1532.42 1768.45 1530.31 Q1766.11 1528.21 1762.11 1528.21 Q1760.23 1528.21 1758.36 1528.62 Q1756.5 1529.04 1754.56 1529.92 L1754.56 1512.56 Z\" fill=\"#000000\" fill-rule=\"evenodd\" fill-opacity=\"1\" /><path clip-path=\"url(#clip240)\" d=\"M 0 0 M2272.44 1543.18 L2288.76 1543.18 L2288.76 1547.12 L2266.82 1547.12 L2266.82 1543.18 Q2269.48 1540.43 2274.06 1535.8 Q2278.67 1531.15 2279.85 1529.81 Q2282.09 1527.28 2282.97 1525.55 Q2283.88 1523.79 2283.88 1522.1 Q2283.88 1519.34 2281.93 1517.61 Q2280.01 1515.87 2276.91 1515.87 Q2274.71 1515.87 2272.26 1516.63 Q2269.83 1517.4 2267.05 1518.95 L2267.05 1514.23 Q2269.87 1513.09 2272.33 1512.51 Q2274.78 1511.93 2276.82 1511.93 Q2282.19 1511.93 2285.38 1514.62 Q2288.58 1517.31 2288.58 1521.8 Q2288.58 1523.93 2287.76 1525.85 Q2286.98 1527.74 2284.87 1530.34 Q2284.29 1531.01 2281.19 1534.23 Q2278.09 1537.42 2272.44 1543.18 Z\" fill=\"#000000\" fill-rule=\"evenodd\" fill-opacity=\"1\" /><path clip-path=\"url(#clip240)\" d=\"M 0 0 M2303.83 1515.64 Q2300.22 1515.64 2298.39 1519.2 Q2296.58 1522.75 2296.58 1529.87 Q2296.58 1536.98 2298.39 1540.55 Q2300.22 1544.09 2303.83 1544.09 Q2307.46 1544.09 2309.27 1540.55 Q2311.1 1536.98 2311.1 1529.87 Q2311.1 1522.75 2309.27 1519.2 Q2307.46 1515.64 2303.83 1515.64 M2303.83 1511.93 Q2309.64 1511.93 2312.7 1516.54 Q2315.77 1521.12 2315.77 1529.87 Q2315.77 1538.6 2312.7 1543.21 Q2309.64 1547.79 2303.83 1547.79 Q2298.02 1547.79 2294.94 1543.21 Q2291.89 1538.6 2291.89 1529.87 Q2291.89 1521.12 2294.94 1516.54 Q2298.02 1511.93 2303.83 1511.93 Z\" fill=\"#000000\" fill-rule=\"evenodd\" fill-opacity=\"1\" /><polyline clip-path=\"url(#clip242)\" style=\"stroke:#000000; stroke-width:2; stroke-opacity:0.1; fill:none\" points=\"\n",
       "  181.135,1309.94 2352.76,1309.94 \n",
       "  \"/>\n",
       "<polyline clip-path=\"url(#clip242)\" style=\"stroke:#000000; stroke-width:2; stroke-opacity:0.1; fill:none\" points=\"\n",
       "  181.135,1038.39 2352.76,1038.39 \n",
       "  \"/>\n",
       "<polyline clip-path=\"url(#clip242)\" style=\"stroke:#000000; stroke-width:2; stroke-opacity:0.1; fill:none\" points=\"\n",
       "  181.135,766.846 2352.76,766.846 \n",
       "  \"/>\n",
       "<polyline clip-path=\"url(#clip242)\" style=\"stroke:#000000; stroke-width:2; stroke-opacity:0.1; fill:none\" points=\"\n",
       "  181.135,495.298 2352.76,495.298 \n",
       "  \"/>\n",
       "<polyline clip-path=\"url(#clip242)\" style=\"stroke:#000000; stroke-width:2; stroke-opacity:0.1; fill:none\" points=\"\n",
       "  181.135,223.75 2352.76,223.75 \n",
       "  \"/>\n",
       "<polyline clip-path=\"url(#clip240)\" style=\"stroke:#000000; stroke-width:4; stroke-opacity:1; fill:none\" points=\"\n",
       "  181.135,1486.45 181.135,47.2441 \n",
       "  \"/>\n",
       "<polyline clip-path=\"url(#clip240)\" style=\"stroke:#000000; stroke-width:4; stroke-opacity:1; fill:none\" points=\"\n",
       "  181.135,1309.94 207.195,1309.94 \n",
       "  \"/>\n",
       "<polyline clip-path=\"url(#clip240)\" style=\"stroke:#000000; stroke-width:4; stroke-opacity:1; fill:none\" points=\"\n",
       "  181.135,1038.39 207.195,1038.39 \n",
       "  \"/>\n",
       "<polyline clip-path=\"url(#clip240)\" style=\"stroke:#000000; stroke-width:4; stroke-opacity:1; fill:none\" points=\"\n",
       "  181.135,766.846 207.195,766.846 \n",
       "  \"/>\n",
       "<polyline clip-path=\"url(#clip240)\" style=\"stroke:#000000; stroke-width:4; stroke-opacity:1; fill:none\" points=\"\n",
       "  181.135,495.298 207.195,495.298 \n",
       "  \"/>\n",
       "<polyline clip-path=\"url(#clip240)\" style=\"stroke:#000000; stroke-width:4; stroke-opacity:1; fill:none\" points=\"\n",
       "  181.135,223.75 207.195,223.75 \n",
       "  \"/>\n",
       "<path clip-path=\"url(#clip240)\" d=\"M 0 0 M50.9921 1310.39 L80.6679 1310.39 L80.6679 1314.33 L50.9921 1314.33 L50.9921 1310.39 Z\" fill=\"#000000\" fill-rule=\"evenodd\" fill-opacity=\"1\" /><path clip-path=\"url(#clip240)\" d=\"M 0 0 M95.7373 1295.74 Q92.1262 1295.74 90.2975 1299.31 Q88.4919 1302.85 88.4919 1309.98 Q88.4919 1317.08 90.2975 1320.65 Q92.1262 1324.19 95.7373 1324.19 Q99.3715 1324.19 101.177 1320.65 Q103.006 1317.08 103.006 1309.98 Q103.006 1302.85 101.177 1299.31 Q99.3715 1295.74 95.7373 1295.74 M95.7373 1292.04 Q101.547 1292.04 104.603 1296.64 Q107.682 1301.23 107.682 1309.98 Q107.682 1318.7 104.603 1323.31 Q101.547 1327.89 95.7373 1327.89 Q89.9271 1327.89 86.8484 1323.31 Q83.7929 1318.7 83.7929 1309.98 Q83.7929 1301.23 86.8484 1296.64 Q89.9271 1292.04 95.7373 1292.04 Z\" fill=\"#000000\" fill-rule=\"evenodd\" fill-opacity=\"1\" /><path clip-path=\"url(#clip240)\" d=\"M 0 0 M112.751 1321.34 L117.635 1321.34 L117.635 1327.22 L112.751 1327.22 L112.751 1321.34 Z\" fill=\"#000000\" fill-rule=\"evenodd\" fill-opacity=\"1\" /><path clip-path=\"url(#clip240)\" d=\"M 0 0 M135.552 1296.74 L123.746 1315.18 L135.552 1315.18 L135.552 1296.74 M134.325 1292.66 L140.205 1292.66 L140.205 1315.18 L145.135 1315.18 L145.135 1319.07 L140.205 1319.07 L140.205 1327.22 L135.552 1327.22 L135.552 1319.07 L119.95 1319.07 L119.95 1314.56 L134.325 1292.66 Z\" fill=\"#000000\" fill-rule=\"evenodd\" fill-opacity=\"1\" /><path clip-path=\"url(#clip240)\" d=\"M 0 0 M53.0754 1038.85 L82.7512 1038.85 L82.7512 1042.78 L53.0754 1042.78 L53.0754 1038.85 Z\" fill=\"#000000\" fill-rule=\"evenodd\" fill-opacity=\"1\" /><path clip-path=\"url(#clip240)\" d=\"M 0 0 M97.8206 1024.19 Q94.2095 1024.19 92.3808 1027.76 Q90.5752 1031.3 90.5752 1038.43 Q90.5752 1045.54 92.3808 1049.1 Q94.2095 1052.64 97.8206 1052.64 Q101.455 1052.64 103.26 1049.1 Q105.089 1045.54 105.089 1038.43 Q105.089 1031.3 103.26 1027.76 Q101.455 1024.19 97.8206 1024.19 M97.8206 1020.49 Q103.631 1020.49 106.686 1025.1 Q109.765 1029.68 109.765 1038.43 Q109.765 1047.16 106.686 1051.76 Q103.631 1056.35 97.8206 1056.35 Q92.0104 1056.35 88.9317 1051.76 Q85.8762 1047.16 85.8762 1038.43 Q85.8762 1029.68 88.9317 1025.1 Q92.0104 1020.49 97.8206 1020.49 Z\" fill=\"#000000\" fill-rule=\"evenodd\" fill-opacity=\"1\" /><path clip-path=\"url(#clip240)\" d=\"M 0 0 M114.834 1049.79 L119.719 1049.79 L119.719 1055.67 L114.834 1055.67 L114.834 1049.79 Z\" fill=\"#000000\" fill-rule=\"evenodd\" fill-opacity=\"1\" /><path clip-path=\"url(#clip240)\" d=\"M 0 0 M128.816 1051.74 L145.135 1051.74 L145.135 1055.67 L123.191 1055.67 L123.191 1051.74 Q125.853 1048.98 130.436 1044.35 Q135.043 1039.7 136.223 1038.36 Q138.469 1035.84 139.348 1034.1 Q140.251 1032.34 140.251 1030.65 Q140.251 1027.9 138.306 1026.16 Q136.385 1024.42 133.283 1024.42 Q131.084 1024.42 128.631 1025.19 Q126.2 1025.95 123.422 1027.5 L123.422 1022.78 Q126.246 1021.65 128.7 1021.07 Q131.154 1020.49 133.191 1020.49 Q138.561 1020.49 141.756 1023.17 Q144.95 1025.86 144.95 1030.35 Q144.95 1032.48 144.14 1034.4 Q143.353 1036.3 141.246 1038.89 Q140.668 1039.56 137.566 1042.78 Q134.464 1045.97 128.816 1051.74 Z\" fill=\"#000000\" fill-rule=\"evenodd\" fill-opacity=\"1\" /><path clip-path=\"url(#clip240)\" d=\"M 0 0 M96.2234 752.645 Q92.6123 752.645 90.7836 756.209 Q88.978 759.751 88.978 766.881 Q88.978 773.987 90.7836 777.552 Q92.6123 781.094 96.2234 781.094 Q99.8576 781.094 101.663 777.552 Q103.492 773.987 103.492 766.881 Q103.492 759.751 101.663 756.209 Q99.8576 752.645 96.2234 752.645 M96.2234 748.941 Q102.034 748.941 105.089 753.547 Q108.168 758.131 108.168 766.881 Q108.168 775.608 105.089 780.214 Q102.034 784.797 96.2234 784.797 Q90.4132 784.797 87.3345 780.214 Q84.279 775.608 84.279 766.881 Q84.279 758.131 87.3345 753.547 Q90.4132 748.941 96.2234 748.941 Z\" fill=\"#000000\" fill-rule=\"evenodd\" fill-opacity=\"1\" /><path clip-path=\"url(#clip240)\" d=\"M 0 0 M113.237 778.246 L118.121 778.246 L118.121 784.126 L113.237 784.126 L113.237 778.246 Z\" fill=\"#000000\" fill-rule=\"evenodd\" fill-opacity=\"1\" /><path clip-path=\"url(#clip240)\" d=\"M 0 0 M133.191 752.645 Q129.58 752.645 127.751 756.209 Q125.945 759.751 125.945 766.881 Q125.945 773.987 127.751 777.552 Q129.58 781.094 133.191 781.094 Q136.825 781.094 138.631 777.552 Q140.459 773.987 140.459 766.881 Q140.459 759.751 138.631 756.209 Q136.825 752.645 133.191 752.645 M133.191 748.941 Q139.001 748.941 142.056 753.547 Q145.135 758.131 145.135 766.881 Q145.135 775.608 142.056 780.214 Q139.001 784.797 133.191 784.797 Q127.381 784.797 124.302 780.214 Q121.246 775.608 121.246 766.881 Q121.246 758.131 124.302 753.547 Q127.381 748.941 133.191 748.941 Z\" fill=\"#000000\" fill-rule=\"evenodd\" fill-opacity=\"1\" /><path clip-path=\"url(#clip240)\" d=\"M 0 0 M97.8206 481.097 Q94.2095 481.097 92.3808 484.662 Q90.5752 488.203 90.5752 495.333 Q90.5752 502.439 92.3808 506.004 Q94.2095 509.546 97.8206 509.546 Q101.455 509.546 103.26 506.004 Q105.089 502.439 105.089 495.333 Q105.089 488.203 103.26 484.662 Q101.455 481.097 97.8206 481.097 M97.8206 477.393 Q103.631 477.393 106.686 482 Q109.765 486.583 109.765 495.333 Q109.765 504.06 106.686 508.666 Q103.631 513.249 97.8206 513.249 Q92.0104 513.249 88.9317 508.666 Q85.8762 504.06 85.8762 495.333 Q85.8762 486.583 88.9317 482 Q92.0104 477.393 97.8206 477.393 Z\" fill=\"#000000\" fill-rule=\"evenodd\" fill-opacity=\"1\" /><path clip-path=\"url(#clip240)\" d=\"M 0 0 M114.834 506.699 L119.719 506.699 L119.719 512.578 L114.834 512.578 L114.834 506.699 Z\" fill=\"#000000\" fill-rule=\"evenodd\" fill-opacity=\"1\" /><path clip-path=\"url(#clip240)\" d=\"M 0 0 M128.816 508.643 L145.135 508.643 L145.135 512.578 L123.191 512.578 L123.191 508.643 Q125.853 505.888 130.436 501.259 Q135.043 496.606 136.223 495.263 Q138.469 492.74 139.348 491.004 Q140.251 489.245 140.251 487.555 Q140.251 484.8 138.306 483.064 Q136.385 481.328 133.283 481.328 Q131.084 481.328 128.631 482.092 Q126.2 482.856 123.422 484.407 L123.422 479.685 Q126.246 478.551 128.7 477.972 Q131.154 477.393 133.191 477.393 Q138.561 477.393 141.756 480.078 Q144.95 482.763 144.95 487.254 Q144.95 489.384 144.14 491.305 Q143.353 493.203 141.246 495.796 Q140.668 496.467 137.566 499.685 Q134.464 502.879 128.816 508.643 Z\" fill=\"#000000\" fill-rule=\"evenodd\" fill-opacity=\"1\" /><path clip-path=\"url(#clip240)\" d=\"M 0 0 M95.7373 209.549 Q92.1262 209.549 90.2975 213.114 Q88.4919 216.655 88.4919 223.785 Q88.4919 230.891 90.2975 234.456 Q92.1262 237.998 95.7373 237.998 Q99.3715 237.998 101.177 234.456 Q103.006 230.891 103.006 223.785 Q103.006 216.655 101.177 213.114 Q99.3715 209.549 95.7373 209.549 M95.7373 205.845 Q101.547 205.845 104.603 210.452 Q107.682 215.035 107.682 223.785 Q107.682 232.512 104.603 237.118 Q101.547 241.702 95.7373 241.702 Q89.9271 241.702 86.8484 237.118 Q83.7929 232.512 83.7929 223.785 Q83.7929 215.035 86.8484 210.452 Q89.9271 205.845 95.7373 205.845 Z\" fill=\"#000000\" fill-rule=\"evenodd\" fill-opacity=\"1\" /><path clip-path=\"url(#clip240)\" d=\"M 0 0 M112.751 235.151 L117.635 235.151 L117.635 241.03 L112.751 241.03 L112.751 235.151 Z\" fill=\"#000000\" fill-rule=\"evenodd\" fill-opacity=\"1\" /><path clip-path=\"url(#clip240)\" d=\"M 0 0 M135.552 210.544 L123.746 228.993 L135.552 228.993 L135.552 210.544 M134.325 206.47 L140.205 206.47 L140.205 228.993 L145.135 228.993 L145.135 232.882 L140.205 232.882 L140.205 241.03 L135.552 241.03 L135.552 232.882 L119.95 232.882 L119.95 228.368 L134.325 206.47 Z\" fill=\"#000000\" fill-rule=\"evenodd\" fill-opacity=\"1\" /><polyline clip-path=\"url(#clip242)\" style=\"stroke:#009af9; stroke-width:4; stroke-opacity:1; fill:none\" points=\"\n",
       "  242.596,766.846 350.422,766.846 458.249,766.846 566.075,766.846 673.901,766.846 781.727,766.846 889.554,766.846 997.38,766.846 1105.21,766.846 1213.03,766.846 \n",
       "  1320.86,766.846 1428.68,766.846 1536.51,766.846 1644.34,766.846 1752.16,766.846 1859.99,766.846 1967.82,766.846 2075.64,766.846 2183.47,766.846 2291.29,766.846 \n",
       "  \n",
       "  \"/>\n",
       "<polyline clip-path=\"url(#clip242)\" style=\"stroke:#e26f46; stroke-width:4; stroke-opacity:1; fill:none\" points=\"\n",
       "  242.596,87.9763 350.422,1445.72 458.249,87.9763 566.075,1445.72 673.901,87.9763 781.727,1445.72 889.554,87.9763 997.38,1445.72 1105.21,87.9763 1213.03,1445.72 \n",
       "  1320.86,87.9763 1428.68,1445.72 1536.51,87.9763 1644.34,1445.72 1752.16,87.9763 1859.99,1445.72 1967.82,87.9763 2075.64,1445.72 2183.47,87.9763 2291.29,1445.72 \n",
       "  \n",
       "  \"/>\n",
       "<polyline clip-path=\"url(#clip242)\" style=\"stroke:#3da44d; stroke-width:4; stroke-opacity:1; fill:none\" points=\"\n",
       "  242.596,766.846 350.422,766.846 458.249,766.846 566.075,766.846 673.901,766.846 781.727,766.846 889.554,766.846 997.38,766.846 1105.21,766.846 1213.03,766.846 \n",
       "  1320.86,766.846 1428.68,766.846 1536.51,766.846 1644.34,766.846 1752.16,766.846 1859.99,766.846 1967.82,766.846 2075.64,766.846 2183.47,766.846 2291.29,766.846 \n",
       "  \n",
       "  \"/>\n",
       "<path clip-path=\"url(#clip240)\" d=\"\n",
       "M1988.11 337.138 L2280.37 337.138 L2280.37 95.2176 L1988.11 95.2176  Z\n",
       "  \" fill=\"#ffffff\" fill-rule=\"evenodd\" fill-opacity=\"1\"/>\n",
       "<polyline clip-path=\"url(#clip240)\" style=\"stroke:#000000; stroke-width:4; stroke-opacity:1; fill:none\" points=\"\n",
       "  1988.11,337.138 2280.37,337.138 2280.37,95.2176 1988.11,95.2176 1988.11,337.138 \n",
       "  \"/>\n",
       "<polyline clip-path=\"url(#clip240)\" style=\"stroke:#009af9; stroke-width:4; stroke-opacity:1; fill:none\" points=\"\n",
       "  2012.23,155.698 2157.01,155.698 \n",
       "  \"/>\n",
       "<path clip-path=\"url(#clip240)\" d=\"M 0 0 M2203.38 139.552 L2203.38 144.112 Q2200.72 142.839 2198.36 142.214 Q2196 141.589 2193.8 141.589 Q2189.98 141.589 2187.9 143.07 Q2185.84 144.552 2185.84 147.283 Q2185.84 149.575 2187.2 150.755 Q2188.59 151.913 2192.43 152.63 L2195.26 153.209 Q2200.49 154.205 2202.97 156.728 Q2205.47 159.228 2205.47 163.441 Q2205.47 168.464 2202.09 171.056 Q2198.73 173.649 2192.23 173.649 Q2189.77 173.649 2186.99 173.093 Q2184.24 172.538 2181.28 171.45 L2181.28 166.635 Q2184.12 168.232 2186.86 169.042 Q2189.59 169.853 2192.23 169.853 Q2196.23 169.853 2198.41 168.279 Q2200.58 166.704 2200.58 163.788 Q2200.58 161.242 2199.01 159.806 Q2197.46 158.371 2193.89 157.654 L2191.05 157.098 Q2185.81 156.056 2183.48 153.834 Q2181.14 151.612 2181.14 147.654 Q2181.14 143.07 2184.36 140.431 Q2187.6 137.793 2193.27 137.793 Q2195.7 137.793 2198.22 138.232 Q2200.74 138.672 2203.38 139.552 Z\" fill=\"#000000\" fill-rule=\"evenodd\" fill-opacity=\"1\" /><path clip-path=\"url(#clip240)\" d=\"M 0 0 M2231.49 147.052 L2222.11 159.667 L2231.97 172.978 L2226.95 172.978 L2219.4 162.792 L2211.86 172.978 L2206.83 172.978 L2216.9 159.413 L2207.69 147.052 L2212.71 147.052 L2219.59 156.288 L2226.46 147.052 L2231.49 147.052 Z\" fill=\"#000000\" fill-rule=\"evenodd\" fill-opacity=\"1\" /><polyline clip-path=\"url(#clip240)\" style=\"stroke:#e26f46; stroke-width:4; stroke-opacity:1; fill:none\" points=\"\n",
       "  2012.23,216.178 2157.01,216.178 \n",
       "  \"/>\n",
       "<path clip-path=\"url(#clip240)\" d=\"M 0 0 M2203.38 200.032 L2203.38 204.592 Q2200.72 203.319 2198.36 202.694 Q2196 202.069 2193.8 202.069 Q2189.98 202.069 2187.9 203.55 Q2185.84 205.032 2185.84 207.763 Q2185.84 210.055 2187.2 211.235 Q2188.59 212.393 2192.43 213.11 L2195.26 213.689 Q2200.49 214.685 2202.97 217.208 Q2205.47 219.708 2205.47 223.921 Q2205.47 228.944 2202.09 231.536 Q2198.73 234.129 2192.23 234.129 Q2189.77 234.129 2186.99 233.573 Q2184.24 233.018 2181.28 231.93 L2181.28 227.115 Q2184.12 228.712 2186.86 229.522 Q2189.59 230.333 2192.23 230.333 Q2196.23 230.333 2198.41 228.759 Q2200.58 227.184 2200.58 224.268 Q2200.58 221.722 2199.01 220.286 Q2197.46 218.851 2193.89 218.134 L2191.05 217.578 Q2185.81 216.536 2183.48 214.314 Q2181.14 212.092 2181.14 208.134 Q2181.14 203.55 2184.36 200.911 Q2187.6 198.273 2193.27 198.273 Q2195.7 198.273 2198.22 198.712 Q2200.74 199.152 2203.38 200.032 Z\" fill=\"#000000\" fill-rule=\"evenodd\" fill-opacity=\"1\" /><path clip-path=\"url(#clip240)\" d=\"M 0 0 M2220.72 235.865 Q2218.92 240.495 2217.2 241.907 Q2215.49 243.319 2212.62 243.319 L2209.22 243.319 L2209.22 239.754 L2211.72 239.754 Q2213.48 239.754 2214.45 238.92 Q2215.42 238.087 2216.6 234.985 L2217.37 233.041 L2206.88 207.532 L2211.39 207.532 L2219.49 227.809 L2227.6 207.532 L2232.11 207.532 L2220.72 235.865 Z\" fill=\"#000000\" fill-rule=\"evenodd\" fill-opacity=\"1\" /><polyline clip-path=\"url(#clip240)\" style=\"stroke:#3da44d; stroke-width:4; stroke-opacity:1; fill:none\" points=\"\n",
       "  2012.23,276.658 2157.01,276.658 \n",
       "  \"/>\n",
       "<path clip-path=\"url(#clip240)\" d=\"M 0 0 M2203.38 260.512 L2203.38 265.072 Q2200.72 263.799 2198.36 263.174 Q2196 262.549 2193.8 262.549 Q2189.98 262.549 2187.9 264.03 Q2185.84 265.512 2185.84 268.243 Q2185.84 270.535 2187.2 271.715 Q2188.59 272.873 2192.43 273.59 L2195.26 274.169 Q2200.49 275.165 2202.97 277.688 Q2205.47 280.188 2205.47 284.401 Q2205.47 289.424 2202.09 292.016 Q2198.73 294.609 2192.23 294.609 Q2189.77 294.609 2186.99 294.053 Q2184.24 293.498 2181.28 292.41 L2181.28 287.595 Q2184.12 289.192 2186.86 290.002 Q2189.59 290.813 2192.23 290.813 Q2196.23 290.813 2198.41 289.239 Q2200.58 287.664 2200.58 284.748 Q2200.58 282.202 2199.01 280.766 Q2197.46 279.331 2193.89 278.614 L2191.05 278.058 Q2185.81 277.016 2183.48 274.794 Q2181.14 272.572 2181.14 268.614 Q2181.14 264.03 2184.36 261.391 Q2187.6 258.753 2193.27 258.753 Q2195.7 258.753 2198.22 259.192 Q2200.74 259.632 2203.38 260.512 Z\" fill=\"#000000\" fill-rule=\"evenodd\" fill-opacity=\"1\" /><path clip-path=\"url(#clip240)\" d=\"M 0 0 M2208.08 268.012 L2228.31 268.012 L2228.31 271.901 L2212.3 290.535 L2228.31 290.535 L2228.31 293.938 L2207.5 293.938 L2207.5 290.049 L2223.52 271.415 L2208.08 271.415 L2208.08 268.012 Z\" fill=\"#000000\" fill-rule=\"evenodd\" fill-opacity=\"1\" /></svg>\n"
      ]
     },
     "execution_count": 14,
     "metadata": {},
     "output_type": "execute_result"
    }
   ],
   "source": [
    "# Evaluate and plot the site-dependent magnetization\n",
    "S_vals = zeros(ComplexF64,Ns,3)\n",
    "S_ops = [Sx, Sy, Sz]\n",
    "\n",
    "S0 = [Id O \n",
    "      O Id]\n",
    "S0_mpo = Array{Array{ComplexF64,2},1}(undef,Ns)\n",
    "\n",
    "for site = 1:Ns\n",
    "   S0_mpo[site] = S0\n",
    "end\n",
    "\n",
    "for site = 1:Ns\n",
    "    for op_idx = 1:3\n",
    "        Sop_here = copy(S0_mpo)\n",
    "        Sop_here[site] = [Id            O\n",
    "                          S_ops[op_idx] Id]\n",
    "        mpo_h = makeMPO(Sop_here,size(Id,1),Ns)\n",
    "        S_vals[site,op_idx] = expect(psi,mpo_h)\n",
    "    end\n",
    "end\n",
    "\n",
    "using Plots\n",
    "plot(broadcast(real,S_vals[:,1]),label=\"Sx\")\n",
    "plot!(broadcast(real,S_vals[:,2]),label=\"Sy\")\n",
    "plot!(broadcast(real,S_vals[:,3]),label=\"Sz\")"
   ]
  },
  {
   "cell_type": "code",
   "execution_count": 62,
   "metadata": {},
   "outputs": [
    {
     "data": {
      "text/plain": [
       "expect_test (generic function with 1 method)"
      ]
     },
     "execution_count": 62,
     "metadata": {},
     "output_type": "execute_result"
    }
   ],
   "source": [
    "# test expectation operator\n",
    "\n",
    "function expect_test(dualpsi ::MPS,psi::MPS,H::MPO...;\n",
    "        Lbound ::TensType=typeof(psi[1])() ,\n",
    "        Rbound ::TensType=Lbound ,order ::intvecType=intType[])\n",
    "    Ns = size(psi ,1)\n",
    "    #println(Ns)\n",
    "    nMPOs = size(H,1)\n",
    "    #println(nMPOs)\n",
    "    #println(order)\n",
    "    nLsize = nMPOs+2\n",
    "    Lenv,Renv = makeEnds(dualpsi ,psi ,H..., Lbound=Lbound ,Rbound=Rbound)\n",
    "    \n",
    "    for i = 1: length(psi)\n",
    "        Lenv =contractc(Lenv ,1,dualpsi[i],1)\n",
    "        for j = 1:nMPOs\n",
    "            Lenv =contract(Lenv ,[1, nLsize],H[j][i],[1,3])\n",
    "        end \n",
    "        Lenv =contract(Lenv ,[1, nLsize],psi[i],[1,2])\n",
    "    end\n",
    "    \n",
    "    if order  == intType[]\n",
    "        permvec = vcat([ ndims(Renv)],[i for i = 2:ndims(Renv ) -1] ,[1])\n",
    "        modRenv = permutedims(Renv ,permvec)\n",
    "    else \n",
    "        modRenv = Renv \n",
    "    end \n",
    "    \n",
    "return contract(Lenv, modRenv)\n",
    "    \n",
    "end"
   ]
  },
  {
   "cell_type": "code",
   "execution_count": 103,
   "metadata": {},
   "outputs": [
    {
     "data": {
      "text/plain": [
       "1 + 1im"
      ]
     },
     "metadata": {},
     "output_type": "display_data"
    },
    {
     "data": {
      "text/plain": [
       "1 + 1im"
      ]
     },
     "metadata": {},
     "output_type": "display_data"
    },
    {
     "data": {
      "text/plain": [
       "2 + 0im"
      ]
     },
     "metadata": {},
     "output_type": "display_data"
    }
   ],
   "source": [
    "#display( expect(psi,psi,MPO_op_vec[1],MPO_op_vec[1]) )\n",
    "idx1 = 6;\n",
    "idx2 = 12;\n",
    "#display( expect(psi,MPO_op_vec[idx1],MPO_op_vec[idx2]) )\n",
    "#display( expect(psi,MPO_op_vec[idx2],MPO_op_vec[idx1]) )\n",
    "var1 = expect(psi,MPO_op_vec[idx1])\n",
    "var2 = expect(psi,MPO_op_vec[idx2])\n",
    "var1 = Complex(1,1);\n",
    "var2 = Complex(1,1);\n",
    "display( var1 )\n",
    "display( var2 )\n",
    "\n",
    "display( var1*var2' )"
   ]
  },
  {
   "cell_type": "code",
   "execution_count": 94,
   "metadata": {},
   "outputs": [],
   "source": [
    "testM = zeros(2,2);\n",
    "testM[1,1] = 4.261;\n",
    "testM[1,2] = -2.13;\n",
    "testM[2,1] = testM[1,2];\n",
    "testM[2,2] = 1.09\n",
    "LinearAlgebra.eigen(testM)"
   ]
  },
  {
   "cell_type": "code",
   "execution_count": 27,
   "metadata": {},
   "outputs": [
    {
     "name": "stdout",
     "output_type": "stream",
     "text": [
      "1.0+0.0i 0.0+0.0i 0.0+0.0i || 0.0+0.0i 0.0+0.0i 0.0+0.0i || 0.0+0.0i 0.0+0.0i 0.0+0.0i || \n",
      "0.0+0.0i 1.0+0.0i 0.0+0.0i || 0.0+0.0i 0.0+0.0i 0.0+0.0i || 0.0+0.0i 0.0+0.0i 0.0+0.0i || \n",
      "0.0+0.0i 0.0+0.0i 1.0+0.0i || 0.0+0.0i 0.0+0.0i 0.0+0.0i || 0.0+0.0i 0.0+0.0i 0.0+0.0i || \n",
      "-------------------------- || -------------------------- || -------------------------- || \n",
      "0.0+0.0i 0.0+0.0i 0.0-0.5i || 0.0+0.0i 0.0+0.0i 0.0+0.0i || 0.0+0.0i 0.0+0.0i 0.0+0.0i || \n",
      "0.0+0.0i 0.0+0.0i 0.0+0.0i || 0.0+0.0i 0.0+0.0i 0.0+0.0i || 0.0+0.0i 0.0+0.0i 0.0+0.0i || \n",
      "0.0+0.5i 0.0+0.0i 0.0+0.0i || 0.0+0.0i 0.0+0.0i 0.0+0.0i || 0.0+0.0i 0.0+0.0i 0.0+0.0i || \n",
      "-------------------------- || -------------------------- || -------------------------- || \n",
      "0.0+0.0i 0.0+0.0i 0.0+0.0i || 0.0+0.0i 0.0+0.0i 0.0-0.5i || 1.0+0.0i 0.0+0.0i 0.0+0.0i || \n",
      "0.0+0.0i 0.0+0.0i 0.0+0.0i || 0.0+0.0i 0.0+0.0i 0.0+0.0i || 0.0+0.0i 1.0+0.0i 0.0+0.0i || \n",
      "0.0+0.0i 0.0+0.0i 0.0+0.0i || 0.0+0.5i 0.0+0.0i 0.0+0.0i || 0.0+0.0i 0.0+0.0i 1.0+0.0i || \n",
      "-------------------------- || -------------------------- || -------------------------- || \n"
     ]
    },
    {
     "data": {
      "text/plain": [
       "3×3 Array{Complex{Float64},2}:\n",
       " 0.0+0.0im  0.0-2.29935e-17im  0.0+0.0im\n",
       " 0.0+0.0im  0.0+0.0im          0.0+0.0im\n",
       " 0.0+0.0im  0.0-2.29935e-17im  0.0+0.0im"
      ]
     },
     "execution_count": 27,
     "metadata": {},
     "output_type": "execute_result"
    }
   ],
   "source": [
    "### check Hermiticity of operators\n",
    "\n",
    "# makes an initial MPS for spin s and size Ns\n",
    "function plot_site_op(M)\n",
    "    size_h = size(M)\n",
    "    Nop_r = size_h[1];\n",
    "    Nop_c = size_h[4];\n",
    "    spin_stride = size_h[2];\n",
    "    if (spin_stride != size_h[3])\n",
    "       throw(\"Spin matrix not square!\") \n",
    "    end\n",
    "    for op_r = 1:Nop_r\n",
    "        for r = 1:spin_stride\n",
    "            for op_l = 1:Nop_c\n",
    "                for c = 1:spin_stride\n",
    "                    val_h = M[op_r,r,c,op_l]\n",
    "                    val_r = real(val_h)\n",
    "                    val_i = imag(val_h)\n",
    "                    @printf(\"%.1f\",val_r)\n",
    "                    if (val_i >= 0)\n",
    "                        @printf(\"+%.1fi\",val_i)\n",
    "                    else\n",
    "                        @printf(\"-%.1fi\",-val_i)                       \n",
    "                    end\n",
    "\n",
    "                    print(\" \")\n",
    "                end\n",
    "                print(\"|| \")\n",
    "            end\n",
    "            print(\"\\n\")\n",
    "        end\n",
    "        print(\"-------------------------- || -------------------------- || -------------------------- || \\n\")\n",
    "    end\n",
    "    \n",
    "end\n",
    "\n",
    "op_h = MPO_op_vec[5];\n",
    "site_h = 2; # 1,Ns sites, 1 and Ns are 1xNxNx3\n",
    "site_op = op_h[site_h]\n",
    "size(site_op)\n",
    "plot_site_op(site_op)\n",
    "# Sx, Sy, Sz || Sx Sx, Sx Sy ...\n",
    "Sx*Sy*Sx"
   ]
  }
 ],
 "metadata": {
  "kernelspec": {
   "display_name": "Julia 1.3.1",
   "language": "julia",
   "name": "julia-1.3"
  },
  "language_info": {
   "file_extension": ".jl",
   "mimetype": "application/julia",
   "name": "julia",
   "version": "1.3.1"
  }
 },
 "nbformat": 4,
 "nbformat_minor": 4
}
